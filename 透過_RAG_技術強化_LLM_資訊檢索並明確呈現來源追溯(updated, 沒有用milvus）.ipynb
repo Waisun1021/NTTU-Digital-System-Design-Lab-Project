{
  "nbformat": 4,
  "nbformat_minor": 0,
  "metadata": {
    "colab": {
      "provenance": [],
      "authorship_tag": "ABX9TyMO2rQZbLvzQ5lYunRsg3m1",
      "include_colab_link": true
    },
    "kernelspec": {
      "name": "python3",
      "display_name": "Python 3"
    },
    "language_info": {
      "name": "python"
    }
  },
  "cells": [
    {
      "cell_type": "markdown",
      "metadata": {
        "id": "view-in-github",
        "colab_type": "text"
      },
      "source": [
        "<a href=\"https://colab.research.google.com/github/kk98033/NTTU-Digital-System-Design-Lab-Project/blob/main/%E9%80%8F%E9%81%8E_RAG_%E6%8A%80%E8%A1%93%E5%BC%B7%E5%8C%96_LLM_%E8%B3%87%E8%A8%8A%E6%AA%A2%E7%B4%A2%E4%B8%A6%E6%98%8E%E7%A2%BA%E5%91%88%E7%8F%BE%E4%BE%86%E6%BA%90%E8%BF%BD%E6%BA%AF(updated%2C%20%E6%B2%92%E6%9C%89%E7%94%A8milvus%EF%BC%89.ipynb\" target=\"_parent\"><img src=\"https://colab.research.google.com/assets/colab-badge.svg\" alt=\"Open In Colab\"/></a>"
      ]
    },
    {
      "cell_type": "code",
      "execution_count": 1,
      "metadata": {
        "id": "oYxosJHaT5xe",
        "colab": {
          "base_uri": "https://localhost:8080/"
        },
        "outputId": "cf1a99c1-fc08-4094-d651-14a45f81ed2a"
      },
      "outputs": [
        {
          "output_type": "stream",
          "name": "stdout",
          "text": [
            "Collecting python-dotenv\n",
            "  Downloading python_dotenv-1.0.1-py3-none-any.whl (19 kB)\n",
            "Installing collected packages: python-dotenv\n",
            "Successfully installed python-dotenv-1.0.1\n",
            "Collecting llama-index\n",
            "  Downloading llama_index-0.10.30-py3-none-any.whl (6.9 kB)\n",
            "Collecting llama-index-agent-openai<0.3.0,>=0.1.4 (from llama-index)\n",
            "  Downloading llama_index_agent_openai-0.2.2-py3-none-any.whl (12 kB)\n",
            "Collecting llama-index-cli<0.2.0,>=0.1.2 (from llama-index)\n",
            "  Downloading llama_index_cli-0.1.12-py3-none-any.whl (26 kB)\n",
            "Collecting llama-index-core<0.11.0,>=0.10.30 (from llama-index)\n",
            "  Downloading llama_index_core-0.10.30-py3-none-any.whl (15.4 MB)\n",
            "\u001b[2K     \u001b[90m━━━━━━━━━━━━━━━━━━━━━━━━━━━━━━━━━━━━━━━━\u001b[0m \u001b[32m15.4/15.4 MB\u001b[0m \u001b[31m75.6 MB/s\u001b[0m eta \u001b[36m0:00:00\u001b[0m\n",
            "\u001b[?25hCollecting llama-index-embeddings-openai<0.2.0,>=0.1.5 (from llama-index)\n",
            "  Downloading llama_index_embeddings_openai-0.1.7-py3-none-any.whl (6.0 kB)\n",
            "Collecting llama-index-indices-managed-llama-cloud<0.2.0,>=0.1.2 (from llama-index)\n",
            "  Downloading llama_index_indices_managed_llama_cloud-0.1.5-py3-none-any.whl (6.7 kB)\n",
            "Collecting llama-index-legacy<0.10.0,>=0.9.48 (from llama-index)\n",
            "  Downloading llama_index_legacy-0.9.48-py3-none-any.whl (2.0 MB)\n",
            "\u001b[2K     \u001b[90m━━━━━━━━━━━━━━━━━━━━━━━━━━━━━━━━━━━━━━━━\u001b[0m \u001b[32m2.0/2.0 MB\u001b[0m \u001b[31m66.4 MB/s\u001b[0m eta \u001b[36m0:00:00\u001b[0m\n",
            "\u001b[?25hCollecting llama-index-llms-openai<0.2.0,>=0.1.13 (from llama-index)\n",
            "  Downloading llama_index_llms_openai-0.1.15-py3-none-any.whl (10 kB)\n",
            "Collecting llama-index-multi-modal-llms-openai<0.2.0,>=0.1.3 (from llama-index)\n",
            "  Downloading llama_index_multi_modal_llms_openai-0.1.5-py3-none-any.whl (5.8 kB)\n",
            "Collecting llama-index-program-openai<0.2.0,>=0.1.3 (from llama-index)\n",
            "  Downloading llama_index_program_openai-0.1.5-py3-none-any.whl (4.1 kB)\n",
            "Collecting llama-index-question-gen-openai<0.2.0,>=0.1.2 (from llama-index)\n",
            "  Downloading llama_index_question_gen_openai-0.1.3-py3-none-any.whl (2.9 kB)\n",
            "Collecting llama-index-readers-file<0.2.0,>=0.1.4 (from llama-index)\n",
            "  Downloading llama_index_readers_file-0.1.19-py3-none-any.whl (36 kB)\n",
            "Collecting llama-index-readers-llama-parse<0.2.0,>=0.1.2 (from llama-index)\n",
            "  Downloading llama_index_readers_llama_parse-0.1.4-py3-none-any.whl (2.5 kB)\n",
            "Collecting openai>=1.14.0 (from llama-index-agent-openai<0.3.0,>=0.1.4->llama-index)\n",
            "  Downloading openai-1.23.1-py3-none-any.whl (310 kB)\n",
            "\u001b[2K     \u001b[90m━━━━━━━━━━━━━━━━━━━━━━━━━━━━━━━━━━━━━━━━\u001b[0m \u001b[32m311.0/311.0 kB\u001b[0m \u001b[31m18.1 MB/s\u001b[0m eta \u001b[36m0:00:00\u001b[0m\n",
            "\u001b[?25hRequirement already satisfied: PyYAML>=6.0.1 in /usr/local/lib/python3.10/dist-packages (from llama-index-core<0.11.0,>=0.10.30->llama-index) (6.0.1)\n",
            "Requirement already satisfied: SQLAlchemy[asyncio]>=1.4.49 in /usr/local/lib/python3.10/dist-packages (from llama-index-core<0.11.0,>=0.10.30->llama-index) (2.0.29)\n",
            "Requirement already satisfied: aiohttp<4.0.0,>=3.8.6 in /usr/local/lib/python3.10/dist-packages (from llama-index-core<0.11.0,>=0.10.30->llama-index) (3.9.5)\n",
            "Collecting dataclasses-json (from llama-index-core<0.11.0,>=0.10.30->llama-index)\n",
            "  Downloading dataclasses_json-0.6.4-py3-none-any.whl (28 kB)\n",
            "Collecting deprecated>=1.2.9.3 (from llama-index-core<0.11.0,>=0.10.30->llama-index)\n",
            "  Downloading Deprecated-1.2.14-py2.py3-none-any.whl (9.6 kB)\n",
            "Collecting dirtyjson<2.0.0,>=1.0.8 (from llama-index-core<0.11.0,>=0.10.30->llama-index)\n",
            "  Downloading dirtyjson-1.0.8-py3-none-any.whl (25 kB)\n",
            "Requirement already satisfied: fsspec>=2023.5.0 in /usr/local/lib/python3.10/dist-packages (from llama-index-core<0.11.0,>=0.10.30->llama-index) (2023.6.0)\n",
            "Collecting httpx (from llama-index-core<0.11.0,>=0.10.30->llama-index)\n",
            "  Downloading httpx-0.27.0-py3-none-any.whl (75 kB)\n",
            "\u001b[2K     \u001b[90m━━━━━━━━━━━━━━━━━━━━━━━━━━━━━━━━━━━━━━━━\u001b[0m \u001b[32m75.6/75.6 kB\u001b[0m \u001b[31m5.2 MB/s\u001b[0m eta \u001b[36m0:00:00\u001b[0m\n",
            "\u001b[?25hCollecting llamaindex-py-client<0.2.0,>=0.1.18 (from llama-index-core<0.11.0,>=0.10.30->llama-index)\n",
            "  Downloading llamaindex_py_client-0.1.18-py3-none-any.whl (136 kB)\n",
            "\u001b[2K     \u001b[90m━━━━━━━━━━━━━━━━━━━━━━━━━━━━━━━━━━━━━━━━\u001b[0m \u001b[32m136.1/136.1 kB\u001b[0m \u001b[31m10.6 MB/s\u001b[0m eta \u001b[36m0:00:00\u001b[0m\n",
            "\u001b[?25hRequirement already satisfied: nest-asyncio<2.0.0,>=1.5.8 in /usr/local/lib/python3.10/dist-packages (from llama-index-core<0.11.0,>=0.10.30->llama-index) (1.6.0)\n",
            "Requirement already satisfied: networkx>=3.0 in /usr/local/lib/python3.10/dist-packages (from llama-index-core<0.11.0,>=0.10.30->llama-index) (3.3)\n",
            "Requirement already satisfied: nltk<4.0.0,>=3.8.1 in /usr/local/lib/python3.10/dist-packages (from llama-index-core<0.11.0,>=0.10.30->llama-index) (3.8.1)\n",
            "Requirement already satisfied: numpy in /usr/local/lib/python3.10/dist-packages (from llama-index-core<0.11.0,>=0.10.30->llama-index) (1.25.2)\n",
            "Requirement already satisfied: pandas in /usr/local/lib/python3.10/dist-packages (from llama-index-core<0.11.0,>=0.10.30->llama-index) (2.0.3)\n",
            "Requirement already satisfied: pillow>=9.0.0 in /usr/local/lib/python3.10/dist-packages (from llama-index-core<0.11.0,>=0.10.30->llama-index) (9.4.0)\n",
            "Requirement already satisfied: requests>=2.31.0 in /usr/local/lib/python3.10/dist-packages (from llama-index-core<0.11.0,>=0.10.30->llama-index) (2.31.0)\n",
            "Requirement already satisfied: tenacity<9.0.0,>=8.2.0 in /usr/local/lib/python3.10/dist-packages (from llama-index-core<0.11.0,>=0.10.30->llama-index) (8.2.3)\n",
            "Collecting tiktoken>=0.3.3 (from llama-index-core<0.11.0,>=0.10.30->llama-index)\n",
            "  Downloading tiktoken-0.6.0-cp310-cp310-manylinux_2_17_x86_64.manylinux2014_x86_64.whl (1.8 MB)\n",
            "\u001b[2K     \u001b[90m━━━━━━━━━━━━━━━━━━━━━━━━━━━━━━━━━━━━━━━━\u001b[0m \u001b[32m1.8/1.8 MB\u001b[0m \u001b[31m61.6 MB/s\u001b[0m eta \u001b[36m0:00:00\u001b[0m\n",
            "\u001b[?25hRequirement already satisfied: tqdm<5.0.0,>=4.66.1 in /usr/local/lib/python3.10/dist-packages (from llama-index-core<0.11.0,>=0.10.30->llama-index) (4.66.2)\n",
            "Requirement already satisfied: typing-extensions>=4.5.0 in /usr/local/lib/python3.10/dist-packages (from llama-index-core<0.11.0,>=0.10.30->llama-index) (4.11.0)\n",
            "Collecting typing-inspect>=0.8.0 (from llama-index-core<0.11.0,>=0.10.30->llama-index)\n",
            "  Downloading typing_inspect-0.9.0-py3-none-any.whl (8.8 kB)\n",
            "Requirement already satisfied: wrapt in /usr/local/lib/python3.10/dist-packages (from llama-index-core<0.11.0,>=0.10.30->llama-index) (1.14.1)\n",
            "Requirement already satisfied: beautifulsoup4<5.0.0,>=4.12.3 in /usr/local/lib/python3.10/dist-packages (from llama-index-readers-file<0.2.0,>=0.1.4->llama-index) (4.12.3)\n",
            "Collecting pypdf<5.0.0,>=4.0.1 (from llama-index-readers-file<0.2.0,>=0.1.4->llama-index)\n",
            "  Downloading pypdf-4.2.0-py3-none-any.whl (290 kB)\n",
            "\u001b[2K     \u001b[90m━━━━━━━━━━━━━━━━━━━━━━━━━━━━━━━━━━━━━━━━\u001b[0m \u001b[32m290.4/290.4 kB\u001b[0m \u001b[31m24.0 MB/s\u001b[0m eta \u001b[36m0:00:00\u001b[0m\n",
            "\u001b[?25hCollecting striprtf<0.0.27,>=0.0.26 (from llama-index-readers-file<0.2.0,>=0.1.4->llama-index)\n",
            "  Downloading striprtf-0.0.26-py3-none-any.whl (6.9 kB)\n",
            "Collecting llama-parse<0.5.0,>=0.4.0 (from llama-index-readers-llama-parse<0.2.0,>=0.1.2->llama-index)\n",
            "  Downloading llama_parse-0.4.1-py3-none-any.whl (7.3 kB)\n",
            "Requirement already satisfied: aiosignal>=1.1.2 in /usr/local/lib/python3.10/dist-packages (from aiohttp<4.0.0,>=3.8.6->llama-index-core<0.11.0,>=0.10.30->llama-index) (1.3.1)\n",
            "Requirement already satisfied: attrs>=17.3.0 in /usr/local/lib/python3.10/dist-packages (from aiohttp<4.0.0,>=3.8.6->llama-index-core<0.11.0,>=0.10.30->llama-index) (23.2.0)\n",
            "Requirement already satisfied: frozenlist>=1.1.1 in /usr/local/lib/python3.10/dist-packages (from aiohttp<4.0.0,>=3.8.6->llama-index-core<0.11.0,>=0.10.30->llama-index) (1.4.1)\n",
            "Requirement already satisfied: multidict<7.0,>=4.5 in /usr/local/lib/python3.10/dist-packages (from aiohttp<4.0.0,>=3.8.6->llama-index-core<0.11.0,>=0.10.30->llama-index) (6.0.5)\n",
            "Requirement already satisfied: yarl<2.0,>=1.0 in /usr/local/lib/python3.10/dist-packages (from aiohttp<4.0.0,>=3.8.6->llama-index-core<0.11.0,>=0.10.30->llama-index) (1.9.4)\n",
            "Requirement already satisfied: async-timeout<5.0,>=4.0 in /usr/local/lib/python3.10/dist-packages (from aiohttp<4.0.0,>=3.8.6->llama-index-core<0.11.0,>=0.10.30->llama-index) (4.0.3)\n",
            "Requirement already satisfied: soupsieve>1.2 in /usr/local/lib/python3.10/dist-packages (from beautifulsoup4<5.0.0,>=4.12.3->llama-index-readers-file<0.2.0,>=0.1.4->llama-index) (2.5)\n",
            "Requirement already satisfied: pydantic>=1.10 in /usr/local/lib/python3.10/dist-packages (from llamaindex-py-client<0.2.0,>=0.1.18->llama-index-core<0.11.0,>=0.10.30->llama-index) (2.7.0)\n",
            "Requirement already satisfied: anyio in /usr/local/lib/python3.10/dist-packages (from httpx->llama-index-core<0.11.0,>=0.10.30->llama-index) (3.7.1)\n",
            "Requirement already satisfied: certifi in /usr/local/lib/python3.10/dist-packages (from httpx->llama-index-core<0.11.0,>=0.10.30->llama-index) (2024.2.2)\n",
            "Collecting httpcore==1.* (from httpx->llama-index-core<0.11.0,>=0.10.30->llama-index)\n",
            "  Downloading httpcore-1.0.5-py3-none-any.whl (77 kB)\n",
            "\u001b[2K     \u001b[90m━━━━━━━━━━━━━━━━━━━━━━━━━━━━━━━━━━━━━━━━\u001b[0m \u001b[32m77.9/77.9 kB\u001b[0m \u001b[31m10.0 MB/s\u001b[0m eta \u001b[36m0:00:00\u001b[0m\n",
            "\u001b[?25hRequirement already satisfied: idna in /usr/local/lib/python3.10/dist-packages (from httpx->llama-index-core<0.11.0,>=0.10.30->llama-index) (3.7)\n",
            "Requirement already satisfied: sniffio in /usr/local/lib/python3.10/dist-packages (from httpx->llama-index-core<0.11.0,>=0.10.30->llama-index) (1.3.1)\n",
            "Collecting h11<0.15,>=0.13 (from httpcore==1.*->httpx->llama-index-core<0.11.0,>=0.10.30->llama-index)\n",
            "  Downloading h11-0.14.0-py3-none-any.whl (58 kB)\n",
            "\u001b[2K     \u001b[90m━━━━━━━━━━━━━━━━━━━━━━━━━━━━━━━━━━━━━━━━\u001b[0m \u001b[32m58.3/58.3 kB\u001b[0m \u001b[31m7.1 MB/s\u001b[0m eta \u001b[36m0:00:00\u001b[0m\n",
            "\u001b[?25hRequirement already satisfied: click in /usr/local/lib/python3.10/dist-packages (from nltk<4.0.0,>=3.8.1->llama-index-core<0.11.0,>=0.10.30->llama-index) (8.1.7)\n",
            "Requirement already satisfied: joblib in /usr/local/lib/python3.10/dist-packages (from nltk<4.0.0,>=3.8.1->llama-index-core<0.11.0,>=0.10.30->llama-index) (1.4.0)\n",
            "Requirement already satisfied: regex>=2021.8.3 in /usr/local/lib/python3.10/dist-packages (from nltk<4.0.0,>=3.8.1->llama-index-core<0.11.0,>=0.10.30->llama-index) (2023.12.25)\n",
            "Requirement already satisfied: distro<2,>=1.7.0 in /usr/lib/python3/dist-packages (from openai>=1.14.0->llama-index-agent-openai<0.3.0,>=0.1.4->llama-index) (1.7.0)\n",
            "Requirement already satisfied: charset-normalizer<4,>=2 in /usr/local/lib/python3.10/dist-packages (from requests>=2.31.0->llama-index-core<0.11.0,>=0.10.30->llama-index) (3.3.2)\n",
            "Requirement already satisfied: urllib3<3,>=1.21.1 in /usr/local/lib/python3.10/dist-packages (from requests>=2.31.0->llama-index-core<0.11.0,>=0.10.30->llama-index) (2.0.7)\n",
            "Requirement already satisfied: greenlet!=0.4.17 in /usr/local/lib/python3.10/dist-packages (from SQLAlchemy[asyncio]>=1.4.49->llama-index-core<0.11.0,>=0.10.30->llama-index) (3.0.3)\n",
            "Collecting mypy-extensions>=0.3.0 (from typing-inspect>=0.8.0->llama-index-core<0.11.0,>=0.10.30->llama-index)\n",
            "  Downloading mypy_extensions-1.0.0-py3-none-any.whl (4.7 kB)\n",
            "Collecting marshmallow<4.0.0,>=3.18.0 (from dataclasses-json->llama-index-core<0.11.0,>=0.10.30->llama-index)\n",
            "  Downloading marshmallow-3.21.1-py3-none-any.whl (49 kB)\n",
            "\u001b[2K     \u001b[90m━━━━━━━━━━━━━━━━━━━━━━━━━━━━━━━━━━━━━━━━\u001b[0m \u001b[32m49.4/49.4 kB\u001b[0m \u001b[31m3.9 MB/s\u001b[0m eta \u001b[36m0:00:00\u001b[0m\n",
            "\u001b[?25hRequirement already satisfied: python-dateutil>=2.8.2 in /usr/local/lib/python3.10/dist-packages (from pandas->llama-index-core<0.11.0,>=0.10.30->llama-index) (2.8.2)\n",
            "Requirement already satisfied: pytz>=2020.1 in /usr/local/lib/python3.10/dist-packages (from pandas->llama-index-core<0.11.0,>=0.10.30->llama-index) (2023.4)\n",
            "Requirement already satisfied: tzdata>=2022.1 in /usr/local/lib/python3.10/dist-packages (from pandas->llama-index-core<0.11.0,>=0.10.30->llama-index) (2024.1)\n",
            "Requirement already satisfied: exceptiongroup in /usr/local/lib/python3.10/dist-packages (from anyio->httpx->llama-index-core<0.11.0,>=0.10.30->llama-index) (1.2.0)\n",
            "Requirement already satisfied: packaging>=17.0 in /usr/local/lib/python3.10/dist-packages (from marshmallow<4.0.0,>=3.18.0->dataclasses-json->llama-index-core<0.11.0,>=0.10.30->llama-index) (24.0)\n",
            "Requirement already satisfied: annotated-types>=0.4.0 in /usr/local/lib/python3.10/dist-packages (from pydantic>=1.10->llamaindex-py-client<0.2.0,>=0.1.18->llama-index-core<0.11.0,>=0.10.30->llama-index) (0.6.0)\n",
            "Requirement already satisfied: pydantic-core==2.18.1 in /usr/local/lib/python3.10/dist-packages (from pydantic>=1.10->llamaindex-py-client<0.2.0,>=0.1.18->llama-index-core<0.11.0,>=0.10.30->llama-index) (2.18.1)\n",
            "Requirement already satisfied: six>=1.5 in /usr/local/lib/python3.10/dist-packages (from python-dateutil>=2.8.2->pandas->llama-index-core<0.11.0,>=0.10.30->llama-index) (1.16.0)\n",
            "Installing collected packages: striprtf, dirtyjson, pypdf, mypy-extensions, marshmallow, h11, deprecated, typing-inspect, tiktoken, httpcore, httpx, dataclasses-json, openai, llamaindex-py-client, llama-index-legacy, llama-index-core, llama-parse, llama-index-readers-file, llama-index-llms-openai, llama-index-indices-managed-llama-cloud, llama-index-embeddings-openai, llama-index-readers-llama-parse, llama-index-multi-modal-llms-openai, llama-index-cli, llama-index-agent-openai, llama-index-program-openai, llama-index-question-gen-openai, llama-index\n",
            "Successfully installed dataclasses-json-0.6.4 deprecated-1.2.14 dirtyjson-1.0.8 h11-0.14.0 httpcore-1.0.5 httpx-0.27.0 llama-index-0.10.30 llama-index-agent-openai-0.2.2 llama-index-cli-0.1.12 llama-index-core-0.10.30 llama-index-embeddings-openai-0.1.7 llama-index-indices-managed-llama-cloud-0.1.5 llama-index-legacy-0.9.48 llama-index-llms-openai-0.1.15 llama-index-multi-modal-llms-openai-0.1.5 llama-index-program-openai-0.1.5 llama-index-question-gen-openai-0.1.3 llama-index-readers-file-0.1.19 llama-index-readers-llama-parse-0.1.4 llama-parse-0.4.1 llamaindex-py-client-0.1.18 marshmallow-3.21.1 mypy-extensions-1.0.0 openai-1.23.1 pypdf-4.2.0 striprtf-0.0.26 tiktoken-0.6.0 typing-inspect-0.9.0\n"
          ]
        }
      ],
      "source": [
        "!pip install python-dotenv\n",
        "!pip install llama-index"
      ]
    },
    {
      "cell_type": "code",
      "source": [
        "import os\n",
        "from google.colab import userdata\n",
        "\n",
        "# 設定OpenAI API密鑰\n",
        "os.environ[\"OPENAI_API_KEY\"] = userdata.get('OPENAI_API_KEY')"
      ],
      "metadata": {
        "id": "lxfGy2XEVyA3"
      },
      "execution_count": 2,
      "outputs": []
    },
    {
      "cell_type": "code",
      "source": [
        "from llama_index.llms.openai import OpenAI\n",
        "from llama_index.core.query_engine import CitationQueryEngine\n",
        "from llama_index.core.indices.vector_store.base import VectorStoreIndex\n",
        "from llama_index.core import SimpleDirectoryReader\n",
        "from llama_index.core import StorageContext\n",
        "\n",
        "from llama_index.core import Settings\n",
        "from llama_index.embeddings.openai import OpenAIEmbedding\n",
        "from llama_index.core.node_parser import SentenceSplitter"
      ],
      "metadata": {
        "id": "vmMRN0_oV0y4"
      },
      "execution_count": 3,
      "outputs": []
    },
    {
      "cell_type": "code",
      "source": [
        "!wget 'https://drive.google.com/uc?export=download&id=1kDwfFbMC3nM0K7OTXu88cczYBFm10pQT' -O 原住民資料.pdf\n",
        "!wget 'https://drive.google.com/uc?export=download&id=1OIK0zUqw7iwuhtvAmLwUnz1-aNqPx7pZ' -O 原住民資料2.pdf"
      ],
      "metadata": {
        "colab": {
          "base_uri": "https://localhost:8080/"
        },
        "id": "DL1QhB-e9nki",
        "outputId": "734e0366-45b1-4070-90e4-8d636c7852ce"
      },
      "execution_count": 4,
      "outputs": [
        {
          "output_type": "stream",
          "name": "stdout",
          "text": [
            "--2024-04-19 02:10:16--  https://drive.google.com/uc?export=download&id=1kDwfFbMC3nM0K7OTXu88cczYBFm10pQT\n",
            "Resolving drive.google.com (drive.google.com)... 142.250.99.102, 142.250.99.113, 142.250.99.139, ...\n",
            "Connecting to drive.google.com (drive.google.com)|142.250.99.102|:443... connected.\n",
            "HTTP request sent, awaiting response... 303 See Other\n",
            "Location: https://drive.usercontent.google.com/download?id=1kDwfFbMC3nM0K7OTXu88cczYBFm10pQT&export=download [following]\n",
            "--2024-04-19 02:10:16--  https://drive.usercontent.google.com/download?id=1kDwfFbMC3nM0K7OTXu88cczYBFm10pQT&export=download\n",
            "Resolving drive.usercontent.google.com (drive.usercontent.google.com)... 142.250.99.132, 2607:f8b0:400e:c0c::84\n",
            "Connecting to drive.usercontent.google.com (drive.usercontent.google.com)|142.250.99.132|:443... connected.\n",
            "HTTP request sent, awaiting response... 200 OK\n",
            "Length: 5073207 (4.8M) [application/octet-stream]\n",
            "Saving to: ‘原住民資料.pdf’\n",
            "\n",
            "原住民資料.pdf      100%[===================>]   4.84M  23.5MB/s    in 0.2s    \n",
            "\n",
            "2024-04-19 02:10:20 (23.5 MB/s) - ‘原住民資料.pdf’ saved [5073207/5073207]\n",
            "\n",
            "--2024-04-19 02:10:20--  https://drive.google.com/uc?export=download&id=1OIK0zUqw7iwuhtvAmLwUnz1-aNqPx7pZ\n",
            "Resolving drive.google.com (drive.google.com)... 142.250.99.102, 142.250.99.113, 142.250.99.139, ...\n",
            "Connecting to drive.google.com (drive.google.com)|142.250.99.102|:443... connected.\n",
            "HTTP request sent, awaiting response... 303 See Other\n",
            "Location: https://drive.usercontent.google.com/download?id=1OIK0zUqw7iwuhtvAmLwUnz1-aNqPx7pZ&export=download [following]\n",
            "--2024-04-19 02:10:20--  https://drive.usercontent.google.com/download?id=1OIK0zUqw7iwuhtvAmLwUnz1-aNqPx7pZ&export=download\n",
            "Resolving drive.usercontent.google.com (drive.usercontent.google.com)... 142.250.99.132, 2607:f8b0:400e:c0c::84\n",
            "Connecting to drive.usercontent.google.com (drive.usercontent.google.com)|142.250.99.132|:443... connected.\n",
            "HTTP request sent, awaiting response... 200 OK\n",
            "Length: 3223764 (3.1M) [application/octet-stream]\n",
            "Saving to: ‘原住民資料2.pdf’\n",
            "\n",
            "原住民資料2.pdf     100%[===================>]   3.07M  --.-KB/s    in 0.04s   \n",
            "\n",
            "2024-04-19 02:10:23 (86.6 MB/s) - ‘原住民資料2.pdf’ saved [3223764/3223764]\n",
            "\n"
          ]
        }
      ]
    },
    {
      "cell_type": "code",
      "source": [
        "# 從 PDF 文件中讀取文檔數據。\n",
        "documents = SimpleDirectoryReader(\n",
        "    input_files=[\"./原住民資料.pdf\", \"./原住民資料2.pdf\"]\n",
        "  ).load_data()\n",
        "print(len(documents))"
      ],
      "metadata": {
        "id": "XLqUV6THWlK5",
        "colab": {
          "base_uri": "https://localhost:8080/"
        },
        "outputId": "3e41806f-76dc-46cf-d09f-2f96aa518823"
      },
      "execution_count": 5,
      "outputs": [
        {
          "output_type": "stream",
          "name": "stderr",
          "text": [
            "WARNING:pypdf._reader:Ignoring wrong pointing object 6 0 (offset 0)\n",
            "WARNING:pypdf._reader:Ignoring wrong pointing object 8 0 (offset 0)\n",
            "WARNING:pypdf._reader:Ignoring wrong pointing object 10 0 (offset 0)\n",
            "WARNING:pypdf._reader:Ignoring wrong pointing object 12 0 (offset 0)\n",
            "WARNING:pypdf._reader:Ignoring wrong pointing object 28 0 (offset 0)\n",
            "WARNING:pypdf._reader:Ignoring wrong pointing object 40 0 (offset 0)\n",
            "WARNING:pypdf._reader:Ignoring wrong pointing object 53 0 (offset 0)\n",
            "WARNING:pypdf._reader:Ignoring wrong pointing object 55 0 (offset 0)\n",
            "WARNING:pypdf._reader:Ignoring wrong pointing object 71 0 (offset 0)\n",
            "WARNING:pypdf._reader:Ignoring wrong pointing object 73 0 (offset 0)\n",
            "WARNING:pypdf._reader:Ignoring wrong pointing object 75 0 (offset 0)\n",
            "WARNING:pypdf._reader:Ignoring wrong pointing object 77 0 (offset 0)\n",
            "WARNING:pypdf._reader:Ignoring wrong pointing object 100 0 (offset 0)\n",
            "WARNING:pypdf._reader:Ignoring wrong pointing object 119 0 (offset 0)\n",
            "WARNING:pypdf._reader:Ignoring wrong pointing object 136 0 (offset 0)\n",
            "WARNING:pypdf._reader:Ignoring wrong pointing object 261 0 (offset 0)\n",
            "WARNING:pypdf._reader:Ignoring wrong pointing object 263 0 (offset 0)\n",
            "WARNING:pypdf._reader:Ignoring wrong pointing object 274 0 (offset 0)\n",
            "WARNING:pypdf._reader:Ignoring wrong pointing object 276 0 (offset 0)\n",
            "WARNING:pypdf._reader:Ignoring wrong pointing object 278 0 (offset 0)\n",
            "WARNING:pypdf._reader:Ignoring wrong pointing object 282 0 (offset 0)\n",
            "WARNING:pypdf._reader:Ignoring wrong pointing object 347 0 (offset 0)\n",
            "WARNING:pypdf._reader:Ignoring wrong pointing object 426 0 (offset 0)\n",
            "WARNING:pypdf._reader:Ignoring wrong pointing object 492 0 (offset 0)\n",
            "WARNING:pypdf._reader:Ignoring wrong pointing object 513 0 (offset 0)\n",
            "WARNING:pypdf._reader:Ignoring wrong pointing object 525 0 (offset 0)\n",
            "WARNING:pypdf._reader:Ignoring wrong pointing object 1182 0 (offset 0)\n",
            "WARNING:pypdf._reader:Ignoring wrong pointing object 1184 0 (offset 0)\n",
            "WARNING:pypdf._reader:Ignoring wrong pointing object 1212 0 (offset 0)\n",
            "WARNING:pypdf._reader:Ignoring wrong pointing object 1354 0 (offset 0)\n",
            "WARNING:pypdf._reader:Ignoring wrong pointing object 1499 0 (offset 0)\n",
            "WARNING:pypdf._reader:Ignoring wrong pointing object 1504 0 (offset 0)\n",
            "WARNING:pypdf._reader:Ignoring wrong pointing object 1736 0 (offset 0)\n",
            "WARNING:pypdf._reader:Ignoring wrong pointing object 1744 0 (offset 0)\n",
            "WARNING:pypdf._reader:Ignoring wrong pointing object 1746 0 (offset 0)\n",
            "WARNING:pypdf._reader:Ignoring wrong pointing object 1754 0 (offset 0)\n",
            "WARNING:pypdf._reader:Ignoring wrong pointing object 1756 0 (offset 0)\n",
            "WARNING:pypdf._reader:Ignoring wrong pointing object 1758 0 (offset 0)\n",
            "WARNING:pypdf._reader:Ignoring wrong pointing object 1770 0 (offset 0)\n",
            "WARNING:pypdf._reader:Ignoring wrong pointing object 1933 0 (offset 0)\n",
            "WARNING:pypdf._reader:Ignoring wrong pointing object 1977 0 (offset 0)\n",
            "WARNING:pypdf._reader:Ignoring wrong pointing object 2043 0 (offset 0)\n",
            "WARNING:pypdf._reader:Ignoring wrong pointing object 2057 0 (offset 0)\n",
            "WARNING:pypdf._reader:Ignoring wrong pointing object 2065 0 (offset 0)\n",
            "WARNING:pypdf._reader:Ignoring wrong pointing object 6 0 (offset 0)\n",
            "WARNING:pypdf._reader:Ignoring wrong pointing object 8 0 (offset 0)\n",
            "WARNING:pypdf._reader:Ignoring wrong pointing object 16 0 (offset 0)\n",
            "WARNING:pypdf._reader:Ignoring wrong pointing object 18 0 (offset 0)\n",
            "WARNING:pypdf._reader:Ignoring wrong pointing object 20 0 (offset 0)\n",
            "WARNING:pypdf._reader:Ignoring wrong pointing object 28 0 (offset 0)\n",
            "WARNING:pypdf._reader:Ignoring wrong pointing object 31 0 (offset 0)\n",
            "WARNING:pypdf._reader:Ignoring wrong pointing object 33 0 (offset 0)\n",
            "WARNING:pypdf._reader:Ignoring wrong pointing object 38 0 (offset 0)\n",
            "WARNING:pypdf._reader:Ignoring wrong pointing object 40 0 (offset 0)\n",
            "WARNING:pypdf._reader:Ignoring wrong pointing object 42 0 (offset 0)\n",
            "WARNING:pypdf._reader:Ignoring wrong pointing object 51 0 (offset 0)\n",
            "WARNING:pypdf._reader:Ignoring wrong pointing object 60 0 (offset 0)\n",
            "WARNING:pypdf._reader:Ignoring wrong pointing object 62 0 (offset 0)\n",
            "WARNING:pypdf._reader:Ignoring wrong pointing object 64 0 (offset 0)\n",
            "WARNING:pypdf._reader:Ignoring wrong pointing object 66 0 (offset 0)\n",
            "WARNING:pypdf._reader:Ignoring wrong pointing object 78 0 (offset 0)\n",
            "WARNING:pypdf._reader:Ignoring wrong pointing object 80 0 (offset 0)\n",
            "WARNING:pypdf._reader:Ignoring wrong pointing object 86 0 (offset 0)\n",
            "WARNING:pypdf._reader:Ignoring wrong pointing object 88 0 (offset 0)\n",
            "WARNING:pypdf._reader:Ignoring wrong pointing object 90 0 (offset 0)\n",
            "WARNING:pypdf._reader:Ignoring wrong pointing object 92 0 (offset 0)\n",
            "WARNING:pypdf._reader:Ignoring wrong pointing object 97 0 (offset 0)\n",
            "WARNING:pypdf._reader:Ignoring wrong pointing object 110 0 (offset 0)\n",
            "WARNING:pypdf._reader:Ignoring wrong pointing object 112 0 (offset 0)\n",
            "WARNING:pypdf._reader:Ignoring wrong pointing object 114 0 (offset 0)\n",
            "WARNING:pypdf._reader:Ignoring wrong pointing object 116 0 (offset 0)\n",
            "WARNING:pypdf._reader:Ignoring wrong pointing object 220 0 (offset 0)\n",
            "WARNING:pypdf._reader:Ignoring wrong pointing object 225 0 (offset 0)\n",
            "WARNING:pypdf._reader:Ignoring wrong pointing object 362 0 (offset 0)\n",
            "WARNING:pypdf._reader:Ignoring wrong pointing object 377 0 (offset 0)\n",
            "WARNING:pypdf._reader:Ignoring wrong pointing object 445 0 (offset 0)\n",
            "WARNING:pypdf._reader:Ignoring wrong pointing object 447 0 (offset 0)\n",
            "WARNING:pypdf._reader:Ignoring wrong pointing object 452 0 (offset 0)\n",
            "WARNING:pypdf._reader:Ignoring wrong pointing object 454 0 (offset 0)\n",
            "WARNING:pypdf._reader:Ignoring wrong pointing object 561 0 (offset 0)\n"
          ]
        },
        {
          "output_type": "stream",
          "name": "stdout",
          "text": [
            "618\n"
          ]
        }
      ]
    },
    {
      "cell_type": "code",
      "source": [
        "# 從文檔中創建向量存儲索引。\n",
        "index = VectorStoreIndex.from_documents(documents)"
      ],
      "metadata": {
        "id": "Cu8fA2qoX7SH"
      },
      "execution_count": 6,
      "outputs": []
    },
    {
      "cell_type": "code",
      "source": [
        "from llama_index.embeddings.openai import OpenAIEmbedding\n",
        "from llama_index.core.node_parser import SentenceSplitter\n",
        "from llama_index.llms.openai import OpenAI\n",
        "from llama_index.core import Settings\n",
        "\n",
        "# 設置 LLaMA 模型、嵌入模型、節點解析器等。\n",
        "Settings.llm = OpenAI(model=\"gpt-3.5-turbo\")\n",
        "Settings.embed_model = OpenAIEmbedding(model=\"text-embedding-3-small\")\n",
        "Settings.node_parser = SentenceSplitter(chunk_size=512, chunk_overlap=20)\n",
        "Settings.num_output = 512\n",
        "Settings.context_window = 3900"
      ],
      "metadata": {
        "id": "Sc0ZdUVuaAin"
      },
      "execution_count": 19,
      "outputs": []
    },
    {
      "cell_type": "code",
      "source": [
        "# 初始化引擎，設置相似性搜索的參數。\n",
        "query_engine = CitationQueryEngine.from_args(\n",
        "    index,\n",
        "    similarity_top_k=3,\n",
        "    citation_chunk_size=512,\n",
        ")"
      ],
      "metadata": {
        "id": "-sUdH-y2X9IO"
      },
      "execution_count": 20,
      "outputs": []
    },
    {
      "cell_type": "markdown",
      "source": [
        "# 測試效果"
      ],
      "metadata": {
        "id": "bulmjQf3UtL1"
      }
    },
    {
      "cell_type": "code",
      "source": [
        "response = query_engine.query(\"阿美族有什麼祭典，請詳細講解\")\n",
        "print(response)"
      ],
      "metadata": {
        "colab": {
          "base_uri": "https://localhost:8080/"
        },
        "id": "jrWO8mVwPlPm",
        "outputId": "f6f4c5a2-8f21-4764-a6dd-1170bb8e7000"
      },
      "execution_count": 26,
      "outputs": [
        {
          "output_type": "stream",
          "name": "stdout",
          "text": [
            "阿美族有豐年祭和漁撈祭兩個主要祭典。豐年祭是一項綜合活動，包括豐收、謝神、聯誼、社交、年齡階級晉級儀式、軍事訓練驗收等多方面內容，具有經濟、宗教、社會、政治、文化等多性質的意義，並且是具有多元文化特質的盛大活動[1]。漁撈祭則包含海祭和河祭兩種形式，是在每年5、6月間祭祀海神或河川神的活動，族人藉此祈求出海平安或撈捕魚類滿載而歸。漁撈祭具有敬老尊賢的意義，祭典由青年以魚蟹、米酒祭拜河神或海神後揭開序幕，並按照年齡階級的輩份順序將煮熟的漁獲送交長者、耆老品嚐，以表示老者優先，並賞賜漁獲給表現良好的年輕人，體現互助共享和重視長者等倫理觀念[2]。\n"
          ]
        }
      ]
    },
    {
      "cell_type": "code",
      "source": [
        "for source in response.source_nodes:\n",
        "    print(source.node.get_text())"
      ],
      "metadata": {
        "colab": {
          "base_uri": "https://localhost:8080/"
        },
        "id": "gi0wG7XKQXzg",
        "outputId": "06fc2255-c566-4ec0-ad97-98f009db89ef"
      },
      "execution_count": 27,
      "outputs": [
        {
          "output_type": "stream",
          "name": "stdout",
          "text": [
            "Source 1:\n",
            "年7 月開始，各部落按照稻米收成時間由南往北安排辦理，祭典時間為期1 ∼ 7 天之間。   豐年祭雖然以豐收為名，但內容包括豐收、謝神、聯誼、社交與年齡階級晉級儀式、軍事訓練驗收儀式等，是具經濟、宗教、社會、政治、文化等多性質的綜合活動。豐年祭的多面向活動，具有多元文化特質的意義，加上參與人數眾多，規模相當盛大。阿美族人即使移居都市，仍然持續辦理豐年祭典，傳承各項傳統文化與觀念，這個祭典也是新一代族人對部落文化認同的重要活動。 2. 漁撈祭 用傳統檳榔葉柄食盒烹煮魚 阿美族的漁撈祭包含海祭與河祭，是在每年5、6 月間祭祀海神或河川神的活動，族人藉此祈求出海平安或撈捕魚類滿載而歸。\n",
            "\n",
            "Source 2:\n",
            "漁撈祭典有不同的名稱，在海邊進行的海祭，北部阿美稱為mia’adis，海岸阿美族稱為misacepo’，馬蘭阿美族稱為mikesi’；撈捕淡水魚的河川祭，沿秀姑巒溪兩岸的阿美族人稱為komoris。   而都歷部落於民國70 年（1981） 中斷過海祭， 復於民國100 年（2011）時恢復此祭儀，更名為pafafuy。 傳統領袖帶領族人祭祖 漁撈祭具有敬老尊賢的意義，祭典由青年以魚蟹、米酒祭拜河神或海神後揭開序幕，接著由各年齡階層進入海河溪流中撈捕魚類。近午時分，青年將捕獲的魚類集中、烹煮，並按照年齡階級的輩份順序，將煮熟的漁獲送交長者、耆老品嚐，以表示老者優先，而年長者也會賞賜漁獲\n",
            "\n",
            "Source 3:\n",
            "祈求作物豐收，也祈使身體健康，如未婚女子在播種祭時盪鞦韆，便能在婚後早生子女，若是已婚而尚未生育者，則能迅速懷孕。因此既是祈福，又是娛樂。         第二天，由先生媽主持告祖祭儀，祭祀邵族的祖靈，祈求作物能順利成長，以及族人能平安健康。第三天，族人仍休息不工作，依舊飲酒為樂。直到第四天的清晨，族人才上山播種，當播種至一半時須由先生媽再主持一次祭祀儀式，以糯米糕作祭品，續求作物的成長及為族人祈福。至此，播種祭始告全部結束。 參考資料  原住民族委員會→原住民族簡介→邵族→祭典傳說：http://www.apc.gov.tw/portal/docList.html?CID=AC58C79198E1FD34&type=1EE2C9E1BA3440B2D0636733C6861689 阿美族總人口220,067，阿美族人群聚而居，部落規模大、人口多，祭典活動特別盛大，以每年的豐年祭典最具代表性。\n",
            "\n",
            "Source 4:\n",
            "阿美族族群簡介 阿美族人群聚而居，部落規模大、人口多，祭典活動特別盛大，以每年的豐年祭典最具代表性。 美麗的家園 阿美族自稱為「pangcah」（邦查），含有「人」、「同族人」的意思，臺東的阿美族人多數住在卑南族的北邊，被卑南族人稱為「Amis」，有北方人、北方民族的意思，後來受到學術界的採用與傳播，成為廣為人知的族群名稱。阿美族的起源神話中，有「創生神話」以及「發祥傳說」兩大類別系統；北部阿美族人傳說祖先是由神降生而來，南部阿美族人認為祖先是由石頭誕生而來。\n",
            "\n",
            "Source 5:\n",
            "漁撈祭        阿美族的漁撈祭包含海祭與河祭，是在每年 5、6 月間祭祀海神或河川神的活動，族人藉此祈求出海平安或撈捕魚類滿載而歸。漁撈祭典有不同的名稱，在海邊進行的海祭，北部阿美稱為 mia’adis，海岸阿美族稱為 misacepo’，馬蘭阿美族稱為 mikesi’；撈捕淡水魚的河川祭，沿秀姑巒溪兩岸的阿美族人稱 為 komoris。而都歷部落於民國70年（1981） 中斷過海祭，復於民國100年（2011）時恢復此祭儀，更名為 pafafuy。        漁撈祭具有敬老尊賢的意義，祭典由青年以魚蟹、米酒祭拜河神或海神後揭開序幕，接著由各年齡階層進入海河溪流中撈捕魚類。\n",
            "\n",
            "Source 6:\n",
            "近午時分，青年將捕獲的魚類集中、烹煮，並按照年齡階級的輩份順序，將煮熟的漁獲送交長者、耆老品嚐，以表示老者優先，而年長者也會賞賜漁獲給表現良好的年輕人，具有互助共享、重視長者等倫理觀念。\n",
            "\n"
          ]
        }
      ]
    },
    {
      "cell_type": "markdown",
      "source": [
        "## 取得資訊來源詳細資訊"
      ],
      "metadata": {
        "id": "9xPFC-_DUzLM"
      }
    },
    {
      "cell_type": "code",
      "source": [
        "for source in response.source_nodes:\n",
        "    print(source.node.get_text())\n",
        "    print(source.node.get_metadata_str())\n",
        "    print(source.node.node_id)\n",
        "    print()"
      ],
      "metadata": {
        "colab": {
          "base_uri": "https://localhost:8080/"
        },
        "id": "T3i0D_gjQpfD",
        "outputId": "ec5fc1f3-c529-45ca-d30a-a58378e15c00"
      },
      "execution_count": 46,
      "outputs": [
        {
          "output_type": "stream",
          "name": "stdout",
          "text": [
            "Source 1:\n",
            "年7 月開始，各部落按照稻米收成時間由南往北安排辦理，祭典時間為期1 ∼ 7 天之間。   豐年祭雖然以豐收為名，但內容包括豐收、謝神、聯誼、社交與年齡階級晉級儀式、軍事訓練驗收儀式等，是具經濟、宗教、社會、政治、文化等多性質的綜合活動。豐年祭的多面向活動，具有多元文化特質的意義，加上參與人數眾多，規模相當盛大。阿美族人即使移居都市，仍然持續辦理豐年祭典，傳承各項傳統文化與觀念，這個祭典也是新一代族人對部落文化認同的重要活動。 2. 漁撈祭 用傳統檳榔葉柄食盒烹煮魚 阿美族的漁撈祭包含海祭與河祭，是在每年5、6 月間祭祀海神或河川神的活動，族人藉此祈求出海平安或撈捕魚類滿載而歸。\n",
            "\n",
            "page_label: 71\n",
            "file_name: 原住民資料.pdf\n",
            "file_path: 原住民資料.pdf\n",
            "file_type: application/pdf\n",
            "file_size: 5073207\n",
            "creation_date: 2024-04-19\n",
            "last_modified_date: 2024-04-03\n",
            "ef1d43c4-b74d-4e66-b884-d23e341aaf1c\n",
            "\n",
            "Source 2:\n",
            "漁撈祭典有不同的名稱，在海邊進行的海祭，北部阿美稱為mia’adis，海岸阿美族稱為misacepo’，馬蘭阿美族稱為mikesi’；撈捕淡水魚的河川祭，沿秀姑巒溪兩岸的阿美族人稱為komoris。   而都歷部落於民國70 年（1981） 中斷過海祭， 復於民國100 年（2011）時恢復此祭儀，更名為pafafuy。 傳統領袖帶領族人祭祖 漁撈祭具有敬老尊賢的意義，祭典由青年以魚蟹、米酒祭拜河神或海神後揭開序幕，接著由各年齡階層進入海河溪流中撈捕魚類。近午時分，青年將捕獲的魚類集中、烹煮，並按照年齡階級的輩份順序，將煮熟的漁獲送交長者、耆老品嚐，以表示老者優先，而年長者也會賞賜漁獲\n",
            "\n",
            "page_label: 71\n",
            "file_name: 原住民資料.pdf\n",
            "file_path: 原住民資料.pdf\n",
            "file_type: application/pdf\n",
            "file_size: 5073207\n",
            "creation_date: 2024-04-19\n",
            "last_modified_date: 2024-04-03\n",
            "ef1d43c4-b74d-4e66-b884-d23e341aaf1c\n",
            "\n",
            "Source 3:\n",
            "祈求作物豐收，也祈使身體健康，如未婚女子在播種祭時盪鞦韆，便能在婚後早生子女，若是已婚而尚未生育者，則能迅速懷孕。因此既是祈福，又是娛樂。         第二天，由先生媽主持告祖祭儀，祭祀邵族的祖靈，祈求作物能順利成長，以及族人能平安健康。第三天，族人仍休息不工作，依舊飲酒為樂。直到第四天的清晨，族人才上山播種，當播種至一半時須由先生媽再主持一次祭祀儀式，以糯米糕作祭品，續求作物的成長及為族人祈福。至此，播種祭始告全部結束。 參考資料  原住民族委員會→原住民族簡介→邵族→祭典傳說：http://www.apc.gov.tw/portal/docList.html?CID=AC58C79198E1FD34&type=1EE2C9E1BA3440B2D0636733C6861689 阿美族總人口220,067，阿美族人群聚而居，部落規模大、人口多，祭典活動特別盛大，以每年的豐年祭典最具代表性。\n",
            "\n",
            "page_label: 64\n",
            "file_name: 原住民資料.pdf\n",
            "file_path: 原住民資料.pdf\n",
            "file_type: application/pdf\n",
            "file_size: 5073207\n",
            "creation_date: 2024-04-19\n",
            "last_modified_date: 2024-04-03\n",
            "43831d09-7987-440f-b06f-8b02b85768b3\n",
            "\n",
            "Source 4:\n",
            "阿美族族群簡介 阿美族人群聚而居，部落規模大、人口多，祭典活動特別盛大，以每年的豐年祭典最具代表性。 美麗的家園 阿美族自稱為「pangcah」（邦查），含有「人」、「同族人」的意思，臺東的阿美族人多數住在卑南族的北邊，被卑南族人稱為「Amis」，有北方人、北方民族的意思，後來受到學術界的採用與傳播，成為廣為人知的族群名稱。阿美族的起源神話中，有「創生神話」以及「發祥傳說」兩大類別系統；北部阿美族人傳說祖先是由神降生而來，南部阿美族人認為祖先是由石頭誕生而來。\n",
            "\n",
            "page_label: 64\n",
            "file_name: 原住民資料.pdf\n",
            "file_path: 原住民資料.pdf\n",
            "file_type: application/pdf\n",
            "file_size: 5073207\n",
            "creation_date: 2024-04-19\n",
            "last_modified_date: 2024-04-03\n",
            "43831d09-7987-440f-b06f-8b02b85768b3\n",
            "\n",
            "Source 5:\n",
            "漁撈祭        阿美族的漁撈祭包含海祭與河祭，是在每年 5、6 月間祭祀海神或河川神的活動，族人藉此祈求出海平安或撈捕魚類滿載而歸。漁撈祭典有不同的名稱，在海邊進行的海祭，北部阿美稱為 mia’adis，海岸阿美族稱為 misacepo’，馬蘭阿美族稱為 mikesi’；撈捕淡水魚的河川祭，沿秀姑巒溪兩岸的阿美族人稱 為 komoris。而都歷部落於民國70年（1981） 中斷過海祭，復於民國100年（2011）時恢復此祭儀，更名為 pafafuy。        漁撈祭具有敬老尊賢的意義，祭典由青年以魚蟹、米酒祭拜河神或海神後揭開序幕，接著由各年齡階層進入海河溪流中撈捕魚類。\n",
            "\n",
            "page_label: 419\n",
            "file_name: 原住民資料.pdf\n",
            "file_path: 原住民資料.pdf\n",
            "file_type: application/pdf\n",
            "file_size: 5073207\n",
            "creation_date: 2024-04-19\n",
            "last_modified_date: 2024-04-03\n",
            "e9321498-b697-47e7-88d8-33764283c5bb\n",
            "\n",
            "Source 6:\n",
            "近午時分，青年將捕獲的魚類集中、烹煮，並按照年齡階級的輩份順序，將煮熟的漁獲送交長者、耆老品嚐，以表示老者優先，而年長者也會賞賜漁獲給表現良好的年輕人，具有互助共享、重視長者等倫理觀念。\n",
            "\n",
            "page_label: 419\n",
            "file_name: 原住民資料.pdf\n",
            "file_path: 原住民資料.pdf\n",
            "file_type: application/pdf\n",
            "file_size: 5073207\n",
            "creation_date: 2024-04-19\n",
            "last_modified_date: 2024-04-03\n",
            "e9321498-b697-47e7-88d8-33764283c5bb\n",
            "\n"
          ]
        }
      ]
    },
    {
      "cell_type": "code",
      "source": [
        "import json"
      ],
      "metadata": {
        "id": "KyUnfD8uQN20"
      },
      "execution_count": 47,
      "outputs": []
    },
    {
      "cell_type": "code",
      "source": [
        "print(response.metadata)\n",
        "print(json.dumps(response.metadata, indent=4, sort_keys=True, ensure_ascii=False))"
      ],
      "metadata": {
        "colab": {
          "base_uri": "https://localhost:8080/"
        },
        "id": "vpAbqYXLPgFq",
        "outputId": "26ab2dfc-7569-45e3-a733-de43e766c0cf"
      },
      "execution_count": 48,
      "outputs": [
        {
          "output_type": "stream",
          "name": "stdout",
          "text": [
            "{'ef1d43c4-b74d-4e66-b884-d23e341aaf1c': {'page_label': '71', 'file_name': '原住民資料.pdf', 'file_path': '原住民資料.pdf', 'file_type': 'application/pdf', 'file_size': 5073207, 'creation_date': '2024-04-19', 'last_modified_date': '2024-04-03'}, '43831d09-7987-440f-b06f-8b02b85768b3': {'page_label': '64', 'file_name': '原住民資料.pdf', 'file_path': '原住民資料.pdf', 'file_type': 'application/pdf', 'file_size': 5073207, 'creation_date': '2024-04-19', 'last_modified_date': '2024-04-03'}, 'e9321498-b697-47e7-88d8-33764283c5bb': {'page_label': '419', 'file_name': '原住民資料.pdf', 'file_path': '原住民資料.pdf', 'file_type': 'application/pdf', 'file_size': 5073207, 'creation_date': '2024-04-19', 'last_modified_date': '2024-04-03'}}\n",
            "{\n",
            "    \"43831d09-7987-440f-b06f-8b02b85768b3\": {\n",
            "        \"creation_date\": \"2024-04-19\",\n",
            "        \"file_name\": \"原住民資料.pdf\",\n",
            "        \"file_path\": \"原住民資料.pdf\",\n",
            "        \"file_size\": 5073207,\n",
            "        \"file_type\": \"application/pdf\",\n",
            "        \"last_modified_date\": \"2024-04-03\",\n",
            "        \"page_label\": \"64\"\n",
            "    },\n",
            "    \"e9321498-b697-47e7-88d8-33764283c5bb\": {\n",
            "        \"creation_date\": \"2024-04-19\",\n",
            "        \"file_name\": \"原住民資料.pdf\",\n",
            "        \"file_path\": \"原住民資料.pdf\",\n",
            "        \"file_size\": 5073207,\n",
            "        \"file_type\": \"application/pdf\",\n",
            "        \"last_modified_date\": \"2024-04-03\",\n",
            "        \"page_label\": \"419\"\n",
            "    },\n",
            "    \"ef1d43c4-b74d-4e66-b884-d23e341aaf1c\": {\n",
            "        \"creation_date\": \"2024-04-19\",\n",
            "        \"file_name\": \"原住民資料.pdf\",\n",
            "        \"file_path\": \"原住民資料.pdf\",\n",
            "        \"file_size\": 5073207,\n",
            "        \"file_type\": \"application/pdf\",\n",
            "        \"last_modified_date\": \"2024-04-03\",\n",
            "        \"page_label\": \"71\"\n",
            "    }\n",
            "}\n"
          ]
        }
      ]
    },
    {
      "cell_type": "code",
      "source": [
        "for source in response.source_nodes:\n",
        "    sourceMetadata = response.metadata[source.node.node_id]\n",
        "    print(json.dumps(sourceMetadata, indent=4, sort_keys=True, ensure_ascii=False))\n",
        "    print()"
      ],
      "metadata": {
        "colab": {
          "base_uri": "https://localhost:8080/"
        },
        "id": "hU5eLr7ZSbXN",
        "outputId": "0f178713-2eaf-4f60-a5ae-78013ce4a0c0"
      },
      "execution_count": 53,
      "outputs": [
        {
          "output_type": "stream",
          "name": "stdout",
          "text": [
            "{\n",
            "    \"creation_date\": \"2024-04-19\",\n",
            "    \"file_name\": \"原住民資料.pdf\",\n",
            "    \"file_path\": \"原住民資料.pdf\",\n",
            "    \"file_size\": 5073207,\n",
            "    \"file_type\": \"application/pdf\",\n",
            "    \"last_modified_date\": \"2024-04-03\",\n",
            "    \"page_label\": \"71\"\n",
            "}\n",
            "\n",
            "{\n",
            "    \"creation_date\": \"2024-04-19\",\n",
            "    \"file_name\": \"原住民資料.pdf\",\n",
            "    \"file_path\": \"原住民資料.pdf\",\n",
            "    \"file_size\": 5073207,\n",
            "    \"file_type\": \"application/pdf\",\n",
            "    \"last_modified_date\": \"2024-04-03\",\n",
            "    \"page_label\": \"71\"\n",
            "}\n",
            "\n",
            "{\n",
            "    \"creation_date\": \"2024-04-19\",\n",
            "    \"file_name\": \"原住民資料.pdf\",\n",
            "    \"file_path\": \"原住民資料.pdf\",\n",
            "    \"file_size\": 5073207,\n",
            "    \"file_type\": \"application/pdf\",\n",
            "    \"last_modified_date\": \"2024-04-03\",\n",
            "    \"page_label\": \"64\"\n",
            "}\n",
            "\n",
            "{\n",
            "    \"creation_date\": \"2024-04-19\",\n",
            "    \"file_name\": \"原住民資料.pdf\",\n",
            "    \"file_path\": \"原住民資料.pdf\",\n",
            "    \"file_size\": 5073207,\n",
            "    \"file_type\": \"application/pdf\",\n",
            "    \"last_modified_date\": \"2024-04-03\",\n",
            "    \"page_label\": \"64\"\n",
            "}\n",
            "\n",
            "{\n",
            "    \"creation_date\": \"2024-04-19\",\n",
            "    \"file_name\": \"原住民資料.pdf\",\n",
            "    \"file_path\": \"原住民資料.pdf\",\n",
            "    \"file_size\": 5073207,\n",
            "    \"file_type\": \"application/pdf\",\n",
            "    \"last_modified_date\": \"2024-04-03\",\n",
            "    \"page_label\": \"419\"\n",
            "}\n",
            "\n",
            "{\n",
            "    \"creation_date\": \"2024-04-19\",\n",
            "    \"file_name\": \"原住民資料.pdf\",\n",
            "    \"file_path\": \"原住民資料.pdf\",\n",
            "    \"file_size\": 5073207,\n",
            "    \"file_type\": \"application/pdf\",\n",
            "    \"last_modified_date\": \"2024-04-03\",\n",
            "    \"page_label\": \"419\"\n",
            "}\n",
            "\n"
          ]
        }
      ]
    },
    {
      "cell_type": "code",
      "source": [
        "response = query_engine.query(\"台灣最高的樓是什麼\")"
      ],
      "metadata": {
        "id": "dr6E1YSagV0H"
      },
      "execution_count": 54,
      "outputs": []
    },
    {
      "cell_type": "code",
      "source": [
        "print(response)\n",
        "print('=================')\n",
        "for source in response.source_nodes:\n",
        "    print(source.get_text())"
      ],
      "metadata": {
        "colab": {
          "base_uri": "https://localhost:8080/"
        },
        "id": "n7ey-Vn2Ofk1",
        "outputId": "f271b458-3472-4eee-b2fe-5cef943cd71b"
      },
      "execution_count": 56,
      "outputs": [
        {
          "output_type": "stream",
          "name": "stdout",
          "text": [
            "None of the provided sources mention the tallest building in Taiwan.\n",
            "=================\n",
            "Source 1:\n",
            "嶺」是本區最高的山嶺，海拔 2,400 公尺，南方有「藤包山」，海拔 2,200 公尺，是對卡族人甚具代表性的地方，已逐漸被後輩的卡族人視為「聖山」。        民國 98 年「莫拉克 88 風災」，由於水量太大，楠梓仙溪重創，下游的小林村因而滅村。卡族人也有數戶受災，被安遷至杉林區的「大愛園區」。所以現今的卡族人分別居住在那瑪夏區的達卡努瓦里、瑪雅里、大愛園區及因就業、就學散居各地的族人。 生活圖像        卡族傳統的經濟生活以農耕燒墾為主，狩獵捕魚為輔。傳統作物有小米、旱稻、糯稻、地瓜、芋頭、玉米等。狩獵上以男性擔任為主，狩獵期間約於 9月至隔年 4 月，約為農閒期間，可分個人與團體。個人的狩獵目的為家庭食物覓尋；團體則大部分為祭儀所需。另捕魚則有刺、網、釣、毒、圍渠等方式。\n",
            "\n",
            "Source 2:\n",
            "工藝        工藝的表現有木工，如製作木臼、木桶、蒸桶、木揹架、木枕、木凳、杵、杖等。藤竹編工，如置穀籮筐、水竹筒、竹背簍、藤竹\n",
            "\n",
            "Source 3:\n",
            "► 竹壁式        竹壁式家屋，以竹材為主要建材，從地平面往上構築，使用茅草覆蓋在屋頂上。  藝術 ► 木琴        木琴是太魯閣族獨特的樂器，木琴製作的材料有：食茱萸（sangas）、 山 鹽 木 （prihut）、 檜 木 （qulit、byugu、plux）、 油 桐（bruqil）、 楓 木 （dgarung）等，以山鹽木之打擊聲音最清脆，而油桐之聲音最厚實。通常在製作前需要選擇長時間陰乾的木材，才能讓木琴不容易變形。        木琴的敲擊演奏用於召喚親友共享美食或作為舞蹈伴奏，敲擊時男士盤坐、女士則採跪姿進行，可以分為單手或雙手演奏兩種。木琴的音階有Re、Mi、Sol、La 等四個音，音階的位置分別是 1 號 Re 音（圓 5.5cm）、2 號 Mi 音（6.5cm）、3 號 Sol 音（5.2cm）、4 號 La 音（4.8cm）。\n",
            "\n",
            "Source 4:\n",
            "牆壁以大量的茅管直立排列後，並以藤條綁住一層或兩層。 3.屋頂如橢圓形的傘斜搭而下，並在上面蓋上茅草，自高處俯視有如母雞孵卵時背脊的形狀。邊延伸出壁外二、三尺，形成四周的走廊。 4.不設窗戶也不開天窗，只靠門來取光。 5.屋內為泥土地，並不隔間，床鋪放在屋內的四角或兩側，床鋪的另一側則放火爐，火爐上有以木頭或竹子製成的吊架，供乾燥榖物之用。（臺灣總督府臨時臺灣舊慣調查會，2001〔1918〕） 家屋四周用石垣圍一塊地以作為曬穀與進行儀式之用，屋子的側後方則有使雜木興建的豬舍與雞舍，並在晚上放置以茅草作成的箱子在豬舍與雞舍的門口，以防止野獸和蛇的攻擊。（臺灣總督府臨時臺灣舊慣調查會，2001〔1918〕；臨時臺灣舊慣調查會，1983〔1915〕）\n",
            "\n"
          ]
        }
      ]
    }
  ]
}