{
  "nbformat": 4,
  "nbformat_minor": 0,
  "metadata": {
    "colab": {
      "provenance": [],
      "authorship_tag": "ABX9TyMve/a8UhaZeEtbdhDgU8mD",
      "include_colab_link": true
    },
    "kernelspec": {
      "name": "python3",
      "display_name": "Python 3"
    },
    "language_info": {
      "name": "python"
    }
  },
  "cells": [
    {
      "cell_type": "markdown",
      "metadata": {
        "id": "view-in-github",
        "colab_type": "text"
      },
      "source": [
        "<a href=\"https://colab.research.google.com/github/kk98033/NTTU-Digital-System-Design-Lab-Project/blob/main/%E9%80%8F%E9%81%8E_RAG_%E6%8A%80%E8%A1%93%E5%BC%B7%E5%8C%96_LLM_%E8%B3%87%E8%A8%8A%E6%AA%A2%E7%B4%A2%E4%B8%A6%E6%98%8E%E7%A2%BA%E5%91%88%E7%8F%BE%E4%BE%86%E6%BA%90%E8%BF%BD%E6%BA%AF.ipynb\" target=\"_parent\"><img src=\"https://colab.research.google.com/assets/colab-badge.svg\" alt=\"Open In Colab\"/></a>"
      ]
    },
    {
      "cell_type": "code",
      "execution_count": null,
      "metadata": {
        "id": "oYxosJHaT5xe"
      },
      "outputs": [],
      "source": [
        "!pip install milvus\n",
        "!pip install milvus python-dotenv\n",
        "!pip install llama-index\n",
        "!pip install llama-index-vector-stores-milvus"
      ]
    },
    {
      "cell_type": "code",
      "source": [
        "# 卸載 grpcio，然後安裝特定版本的 grpcio（1.60.0）安裝其他的版本可能會導致衝突\n",
        "!pip uninstall grpcio\n",
        "!pip install grpcio==1.60.0"
      ],
      "metadata": {
        "colab": {
          "base_uri": "https://localhost:8080/",
          "height": 312
        },
        "id": "RIb_S5kvVuE-",
        "outputId": "d5939708-b4dc-4ec2-dbea-df70f3f7831b"
      },
      "execution_count": null,
      "outputs": [
        {
          "output_type": "stream",
          "name": "stdout",
          "text": [
            "Found existing installation: grpcio 1.60.0\n",
            "Uninstalling grpcio-1.60.0:\n",
            "  Would remove:\n",
            "    /usr/local/lib/python3.10/dist-packages/grpc/*\n",
            "    /usr/local/lib/python3.10/dist-packages/grpcio-1.60.0.dist-info/*\n",
            "Proceed (Y/n)? y\n",
            "  Successfully uninstalled grpcio-1.60.0\n",
            "Collecting grpcio==1.60.0\n",
            "  Using cached grpcio-1.60.0-cp310-cp310-manylinux_2_17_x86_64.manylinux2014_x86_64.whl (5.4 MB)\n",
            "Installing collected packages: grpcio\n",
            "Successfully installed grpcio-1.60.0\n"
          ]
        },
        {
          "output_type": "display_data",
          "data": {
            "application/vnd.colab-display-data+json": {
              "pip_warning": {
                "packages": [
                  "grpc"
                ]
              },
              "id": "f9af62739b2d40deb7934f824ff0b68e"
            }
          },
          "metadata": {}
        }
      ]
    },
    {
      "cell_type": "code",
      "source": [
        "import os\n",
        "from google.colab import userdata\n",
        "\n",
        "# 設定OpenAI API密鑰\n",
        "os.environ[\"OPENAI_API_KEY\"] = userdata.get('OPENAI_API_KEY')"
      ],
      "metadata": {
        "id": "lxfGy2XEVyA3"
      },
      "execution_count": null,
      "outputs": []
    },
    {
      "cell_type": "code",
      "source": [
        "from llama_index.llms.openai import OpenAI\n",
        "from llama_index.core.query_engine import CitationQueryEngine\n",
        "from llama_index.core.indices.vector_store.base import VectorStoreIndex\n",
        "from llama_index.core import SimpleDirectoryReader\n",
        "from llama_index.core import StorageContext\n",
        "# from llama_index.vector_stores.milvus import MilvusVectorStore\n",
        "from milvus import default_server\n",
        "\n",
        "from llama_index.core import Settings\n",
        "from llama_index.embeddings.openai import OpenAIEmbedding\n",
        "from llama_index.core.node_parser import SentenceSplitter"
      ],
      "metadata": {
        "id": "vmMRN0_oV0y4"
      },
      "execution_count": null,
      "outputs": []
    },
    {
      "cell_type": "code",
      "source": [
        "from llama_index.vector_stores.milvus import MilvusVectorStore"
      ],
      "metadata": {
        "id": "L2nP4zo0V5wP"
      },
      "execution_count": null,
      "outputs": []
    },
    {
      "cell_type": "code",
      "source": [
        "!wget 'https://drive.google.com/uc?export=download&id=1kDwfFbMC3nM0K7OTXu88cczYBFm10pQT' -O 原住民資料.pdf"
      ],
      "metadata": {
        "colab": {
          "base_uri": "https://localhost:8080/"
        },
        "id": "DL1QhB-e9nki",
        "outputId": "3eb7c62e-0d6d-463f-a0b6-1a4384f5b80d"
      },
      "execution_count": null,
      "outputs": [
        {
          "output_type": "stream",
          "name": "stdout",
          "text": [
            "--2024-04-03 05:56:22--  https://drive.google.com/uc?export=download&id=1kDwfFbMC3nM0K7OTXu88cczYBFm10pQT\n",
            "Resolving drive.google.com (drive.google.com)... 74.125.128.138, 74.125.128.113, 74.125.128.100, ...\n",
            "Connecting to drive.google.com (drive.google.com)|74.125.128.138|:443... connected.\n",
            "HTTP request sent, awaiting response... 303 See Other\n",
            "Location: https://drive.usercontent.google.com/download?id=1kDwfFbMC3nM0K7OTXu88cczYBFm10pQT&export=download [following]\n",
            "--2024-04-03 05:56:22--  https://drive.usercontent.google.com/download?id=1kDwfFbMC3nM0K7OTXu88cczYBFm10pQT&export=download\n",
            "Resolving drive.usercontent.google.com (drive.usercontent.google.com)... 142.250.145.132, 2a00:1450:4013:c14::84\n",
            "Connecting to drive.usercontent.google.com (drive.usercontent.google.com)|142.250.145.132|:443... connected.\n",
            "HTTP request sent, awaiting response... 200 OK\n",
            "Length: 5073207 (4.8M) [application/octet-stream]\n",
            "Saving to: ‘原住民資料.pdf’\n",
            "\n",
            "原住民資料.pdf      100%[===================>]   4.84M  26.3MB/s    in 0.2s    \n",
            "\n",
            "2024-04-03 05:56:25 (26.3 MB/s) - ‘原住民資料.pdf’ saved [5073207/5073207]\n",
            "\n"
          ]
        }
      ]
    },
    {
      "cell_type": "code",
      "source": [
        "# 從 PDF 文件中讀取文檔數據。\n",
        "documents = SimpleDirectoryReader(\n",
        "    input_files=[\"./原住民資料.pdf\"]\n",
        "  ).load_data()\n",
        "print(len(documents))\n",
        "# print(documents)"
      ],
      "metadata": {
        "id": "XLqUV6THWlK5"
      },
      "execution_count": null,
      "outputs": []
    },
    {
      "cell_type": "code",
      "source": [
        "# 啟動 Milvus lite 服務。\n",
        "default_server.start()\n",
        "vector_dimension = 768\n",
        "\n",
        "vector_store = MilvusVectorStore(\n",
        "    collection_name=\"citations\",\n",
        "    host=\"127.0.0.1\",\n",
        "    port=default_server.listen_port,\n",
        "    dim=vector_dimension\n",
        ")"
      ],
      "metadata": {
        "colab": {
          "base_uri": "https://localhost:8080/"
        },
        "id": "kbHfzka1X5Om",
        "outputId": "f1a52a01-dc90-433e-9de1-07cd0df1c5ee"
      },
      "execution_count": null,
      "outputs": [
        {
          "output_type": "stream",
          "name": "stderr",
          "text": [
            "DEBUG:pymilvus.milvus_client.milvus_client:Created new connection using: bbe1e464a2c4429da83f7784aed9d22c\n",
            "DEBUG:pymilvus.milvus_client.milvus_client:Successfully created collection: citations\n",
            "DEBUG:pymilvus.milvus_client.milvus_client:Successfully created an index on collection: citations\n"
          ]
        }
      ]
    },
    {
      "cell_type": "code",
      "source": [
        "# 從文檔中創建向量存儲索引。\n",
        "index = VectorStoreIndex.from_documents(documents)"
      ],
      "metadata": {
        "id": "Cu8fA2qoX7SH"
      },
      "execution_count": null,
      "outputs": []
    },
    {
      "cell_type": "code",
      "source": [
        "from llama_index.embeddings.openai import OpenAIEmbedding\n",
        "from llama_index.core.node_parser import SentenceSplitter\n",
        "from llama_index.llms.openai import OpenAI\n",
        "from llama_index.core import Settings\n",
        "\n",
        "# 設置 LLaMA 模型、嵌入模型、節點解析器等。\n",
        "Settings.llm = OpenAI(model=\"gpt-3.5-turbo\")\n",
        "Settings.embed_model = OpenAIEmbedding(model=\"text-embedding-3-small\")\n",
        "Settings.node_parser = SentenceSplitter(chunk_size=512, chunk_overlap=20)\n",
        "Settings.num_output = 512\n",
        "Settings.context_window = 3900"
      ],
      "metadata": {
        "id": "Sc0ZdUVuaAin"
      },
      "execution_count": null,
      "outputs": []
    },
    {
      "cell_type": "code",
      "source": [
        "# 初始化引擎，設置相似性搜索的參數。\n",
        "query_engine = CitationQueryEngine.from_args(\n",
        "    index,\n",
        "    similarity_top_k=3,\n",
        "    citation_chunk_size=512,\n",
        ")\n",
        "# response = query_engine.query(\"魯凱一詞的來源是什麼\")\n",
        "response = query_engine.query(\"阿美族有什麼祭典，請詳細講解\")\n",
        "print(response)\n",
        "print('=================')\n",
        "for source in response.source_nodes:\n",
        "    print(source.node.get_text())"
      ],
      "metadata": {
        "colab": {
          "base_uri": "https://localhost:8080/"
        },
        "id": "-sUdH-y2X9IO",
        "outputId": "860af663-18a9-4a01-f6a8-9812d609450b"
      },
      "execution_count": null,
      "outputs": [
        {
          "output_type": "stream",
          "name": "stdout",
          "text": [
            "阿美族有豐年祭和漁撈祭兩個主要的祭典活動。豐年祭是在小米或稻米收穫後舉行的祭典，用來感謝神靈並祈求豐收、健康、以及族人平安。這個祭典包含了豐收、謝神、聯誼、社交、年齡階級晉級儀式、軍事訓練驗收儀式等多種活動，具有經濟、宗教、社會、政治、文化等多性質的綜合活動[5]。漁撈祭則是在每年5、6月間舉行的祭祀海神或河川神的活動，用來祈求出海平安或撈捕魚類滿載而歸。漁撈祭包含海祭和河祭兩種形式，族人會在海邊或河川進行相應的祭祀活動，並將捕獲的魚類烹煮後按照年齡階級的輩份順序送交長者、耆老品嚐，以表示敬老尊賢的意義[6]。這兩個祭典活動展現了阿美族豐富的宗教信仰和文化傳統。\n",
            "=================\n",
            "Source 1:\n",
            "母系社會承繼制度正顯示阿美族在家族事務與部落公共事務上，男女有別、社會分工的文化特色。 風俗民情 阿美族的傳統信仰相信天地萬物都有靈性，以kawas（靈魂）為核心概念，有神、鬼、人、動物、植物等不同類別；kawas 也因為屬性不同而在空間上有天上、地下靈不同層次的分類；天上神有天神、太陽神、月亮神等，地下靈有河神、海神、土地神、動物神等，可以說是一個秉持萬物有靈、多神信仰觀念的民族。阿美族傳統信仰中的巫師，稱為cikawasay 或sikawasay，是專職的宗教人員，用占卜的神靈溝通儀式為族人消災、治病。巫師除了幫個別族人招吉避兇外，也會在部落農耕儀式與狩獵前後的各項儀式中，向天神祈福或感謝。\n",
            "\n",
            "Source 2:\n",
            "戰後中華民國政府時期，基督宗教傳入阿美族部落，以長老教會、天主教、聖教會、真耶穌教會等信徒較多，基督教的牧師或是天主教的神父，在部落中取代了巫師許多的祈福儀式與服務工作，成為目前阿美族部落中最普遍、主要的宗教專職人員。目前阿美族部落中除了傳統宗教、西方宗教外，在臺東、恆春半島也有信仰漢族民間宗教信仰的部落，整體呈現多元並存的宗教現象。  1. 豐年祭（ilisin/malaikid/malikoda/kiluma’an/zukimisai/siukakusai） 豐年祭是阿美族人在小米收穫後，族人為感謝神靈而舉行的祭典。豐年祭的名稱，各部落因說法不一，有malalikid、malikoda、kiluma’an 等說法，後來受日本語影響而有zukimisai（月見祭）與siukakukai（收穫會）等不同說法，現在多稱為豐年祭。豐年祭原是小米收穫後進行，在部落稻米種植面積大量增加後，祭典時間改為稻米收割後舉行。每\n",
            "\n",
            "Source 3:\n",
            "祈求作物豐收，也祈使身體健康，如未婚女子在播種祭時盪鞦韆，便能在婚後早生子女，若是已婚而尚未生育者，則能迅速懷孕。因此既是祈福，又是娛樂。         第二天，由先生媽主持告祖祭儀，祭祀邵族的祖靈，祈求作物能順利成長，以及族人能平安健康。第三天，族人仍休息不工作，依舊飲酒為樂。直到第四天的清晨，族人才上山播種，當播種至一半時須由先生媽再主持一次祭祀儀式，以糯米糕作祭品，續求作物的成長及為族人祈福。至此，播種祭始告全部結束。 參考資料  原住民族委員會→原住民族簡介→邵族→祭典傳說：http://www.apc.gov.tw/portal/docList.html?CID=AC58C79198E1FD34&type=1EE2C9E1BA3440B2D0636733C6861689 阿美族總人口220,067，阿美族人群聚而居，部落規模大、人口多，祭典活動特別盛大，以每年的豐年祭典最具代表性。\n",
            "\n",
            "Source 4:\n",
            "阿美族族群簡介 阿美族人群聚而居，部落規模大、人口多，祭典活動特別盛大，以每年的豐年祭典最具代表性。 美麗的家園 阿美族自稱為「pangcah」（邦查），含有「人」、「同族人」的意思，臺東的阿美族人多數住在卑南族的北邊，被卑南族人稱為「Amis」，有北方人、北方民族的意思，後來受到學術界的採用與傳播，成為廣為人知的族群名稱。阿美族的起源神話中，有「創生神話」以及「發祥傳說」兩大類別系統；北部阿美族人傳說祖先是由神降生而來，南部阿美族人認為祖先是由石頭誕生而來。\n",
            "\n",
            "Source 5:\n",
            "年7 月開始，各部落按照稻米收成時間由南往北安排辦理，祭典時間為期1 ∼ 7 天之間。   豐年祭雖然以豐收為名，但內容包括豐收、謝神、聯誼、社交與年齡階級晉級儀式、軍事訓練驗收儀式等，是具經濟、宗教、社會、政治、文化等多性質的綜合活動。豐年祭的多面向活動，具有多元文化特質的意義，加上參與人數眾多，規模相當盛大。阿美族人即使移居都市，仍然持續辦理豐年祭典，傳承各項傳統文化與觀念，這個祭典也是新一代族人對部落文化認同的重要活動。 2. 漁撈祭 用傳統檳榔葉柄食盒烹煮魚 阿美族的漁撈祭包含海祭與河祭，是在每年5、6 月間祭祀海神或河川神的活動，族人藉此祈求出海平安或撈捕魚類滿載而歸。\n",
            "\n",
            "Source 6:\n",
            "漁撈祭典有不同的名稱，在海邊進行的海祭，北部阿美稱為mia’adis，海岸阿美族稱為misacepo’，馬蘭阿美族稱為mikesi’；撈捕淡水魚的河川祭，沿秀姑巒溪兩岸的阿美族人稱為komoris。   而都歷部落於民國70 年（1981） 中斷過海祭， 復於民國100 年（2011）時恢復此祭儀，更名為pafafuy。 傳統領袖帶領族人祭祖 漁撈祭具有敬老尊賢的意義，祭典由青年以魚蟹、米酒祭拜河神或海神後揭開序幕，接著由各年齡階層進入海河溪流中撈捕魚類。近午時分，青年將捕獲的魚類集中、烹煮，並按照年齡階級的輩份順序，將煮熟的漁獲送交長者、耆老品嚐，以表示老者優先，而年長者也會賞賜漁獲\n",
            "\n"
          ]
        }
      ]
    },
    {
      "cell_type": "code",
      "source": [
        "response = query_engine.query(\"台灣最高的樓是什麼\")\n",
        "print(response)\n",
        "print('=================')\n",
        "for source in response.source_nodes:\n",
        "    print(source.node.get_text())"
      ],
      "metadata": {
        "colab": {
          "base_uri": "https://localhost:8080/"
        },
        "id": "dr6E1YSagV0H",
        "outputId": "30dcb08f-ed76-4e1e-d697-d8f0d7cecf2f"
      },
      "execution_count": null,
      "outputs": [
        {
          "output_type": "stream",
          "name": "stdout",
          "text": [
            "Unfortunately, none of the provided sources contain information about the tallest building in Taiwan.\n",
            "=================\n",
            "Source 1:\n",
            "● minfazfaz 迎最高祖靈至祖靈屋（8 月 11 日）。 ● manqatubi 在部落中「踩街趕煞」繞境（8 月 12 日至 21 日）。 ● 最高祖靈巡各邵族家屋（8 月 22 日至 23 日）。 ● 拆祖靈屋（8 月 28 日）。         最精彩的邵族大過年儀式為「minrikus（最後祭）」儀式，熱鬧非凡、通宵達旦，每戶人家鞭炮、歌聲不絕於耳，部落中之漢族和觀光客非常踴躍參與。        當部落裡每戶族人家都完成最高祖靈祈福後，已經是隔天清晨接近中午時刻。隔數日，女祭司祭拜完祖靈屋，送走祖靈後，會將祖靈屋拆除、火燒，代表整個祖靈祭儀式圓滿完成 鄒族 簡介        鄒族居住在臺灣中部中高海拔的阿里山山區，祭典有豐收謝神的小米收穫祭典（homeyaya）與彰顯彪炳戰功的凱旋祭（mayasvi）。\n",
            "\n",
            "Source 2:\n",
            "作數月至數年，婚後男性跟隨妻子居住。民國 50 年代（1960 年代）之後，阿美族人與其他族群的接觸與通婚越來越頻繁，傳統從妻居的婚姻方式漸漸調整為嫁娶婚姻，家業也由男子代替女性承接，成為偏父系的社會。  領袖制度        阿美族最高領袖是大頭目，透過選賢與能制度，由地方領袖、男子年齡階級與司祭家代表在會議中選出。        近代阿美族的大頭目中以古拉斯 ‧ 馬亨亨最為有名。古拉斯 ‧ 馬亨亨（Kolas Mahengheng）是臺東阿美馬蘭社人，出生於清咸豐 2 年（1852），因為身材高大、聲音宏亮而被暱稱為「馬亨亨」。古拉斯 ‧ 馬亨亨（Kolas Mahengheng）在清末日初時期，經常往來於花東縱谷及東海岸各個部落，調解不少各族之間的紛爭與多起部落反抗事件，例如日本殖民統治初期的「七腳川事件」、「麻荖漏事件」等。\n",
            "\n",
            "Source 3:\n",
            "民國 89 年（2000）年臺東縣政府為肯定「馬亨亨」的成就，特別將通往臺東車站的外環道命名為「馬亨亨大道」。\n",
            "\n",
            "Source 4:\n",
            "民國50 年代（1960 年代）之後，阿美族人與其他族群的接觸與通婚越來越頻繁，傳統從妻居的婚姻方式漸漸調整為嫁娶婚姻，家業也由男子代替女性承接，成為偏父系的社會。 2.\n",
            "\n",
            "Source 5:\n",
            "領袖制度阿美族最高領袖是大傳統領袖，透過選賢與能制度，由地方領袖、男子年齡階級與司祭家代表在會議中選出。近代阿美族的大傳統領袖中以古拉斯‧ 馬亨亨最為有名。古拉斯‧ 馬亨亨（Kolas Mahengheng）是臺東阿美馬蘭社人，出生於清咸豐2 年（1852），因為身材高大、聲音宏亮而被暱稱為「馬亨亨」。 古拉斯‧ 馬亨亨（KolasMahengheng）在清末日初時期，經常往來於花東縱谷及東海岸各個部落，調解不少各族之間的紛爭與多起部落反抗事件，例如日本殖民統治初期的「七腳川事件」、「麻荖漏事件」等。民國89 年（2000）年臺東縣政府為肯定「馬亨亨」的成就，特別將通往臺東車站的外環道命名為「馬亨亨大道」。 3.\n",
            "\n"
          ]
        }
      ]
    }
  ]
}