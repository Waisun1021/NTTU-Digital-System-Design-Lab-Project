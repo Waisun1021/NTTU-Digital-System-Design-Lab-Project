{
  "nbformat": 4,
  "nbformat_minor": 0,
  "metadata": {
    "colab": {
      "provenance": [],
      "authorship_tag": "ABX9TyNBhIaR6jHzTG8yGFivwLJr",
      "include_colab_link": true
    },
    "kernelspec": {
      "name": "python3",
      "display_name": "Python 3"
    },
    "language_info": {
      "name": "python"
    }
  },
  "cells": [
    {
      "cell_type": "markdown",
      "metadata": {
        "id": "view-in-github",
        "colab_type": "text"
      },
      "source": [
        "<a href=\"https://colab.research.google.com/github/kk98033/NTTU-Digital-System-Design-Lab-Project/blob/main/llamaindex_ReAct_%2B_CitationQueryEngine.ipynb\" target=\"_parent\"><img src=\"https://colab.research.google.com/assets/colab-badge.svg\" alt=\"Open In Colab\"/></a>"
      ]
    },
    {
      "cell_type": "code",
      "execution_count": 1,
      "metadata": {
        "colab": {
          "base_uri": "https://localhost:8080/"
        },
        "id": "jvpoTRGvx4IF",
        "outputId": "95fb31c4-6948-4483-f140-e4e1cebb6414"
      },
      "outputs": [
        {
          "output_type": "stream",
          "name": "stdout",
          "text": [
            "Collecting milvus\n",
            "  Downloading milvus-2.3.5-py3-none-manylinux2014_x86_64.whl (57.7 MB)\n",
            "\u001b[2K     \u001b[90m━━━━━━━━━━━━━━━━━━━━━━━━━━━━━━━━━━━━━━━━\u001b[0m \u001b[32m57.7/57.7 MB\u001b[0m \u001b[31m10.7 MB/s\u001b[0m eta \u001b[36m0:00:00\u001b[0m\n",
            "\u001b[?25hInstalling collected packages: milvus\n",
            "Successfully installed milvus-2.3.5\n"
          ]
        }
      ],
      "source": [
        "!pip install milvus"
      ]
    },
    {
      "cell_type": "code",
      "source": [
        "!pip install -U llama-index llama-index-vector-stores-milvus pymilvus llama-index-llms-openai llama-index-readers-file"
      ],
      "metadata": {
        "colab": {
          "base_uri": "https://localhost:8080/"
        },
        "id": "BdEWknHH0jV9",
        "outputId": "77bf3a64-dbf4-438b-ffa5-5b36331e9e00"
      },
      "execution_count": 2,
      "outputs": [
        {
          "output_type": "stream",
          "name": "stdout",
          "text": [
            "Collecting llama-index\n",
            "  Downloading llama_index-0.10.28-py3-none-any.whl (6.9 kB)\n",
            "Collecting llama-index-vector-stores-milvus\n",
            "  Downloading llama_index_vector_stores_milvus-0.1.8-py3-none-any.whl (5.6 kB)\n",
            "Collecting pymilvus\n",
            "  Downloading pymilvus-2.4.0-1-py3-none-any.whl (189 kB)\n",
            "\u001b[2K     \u001b[90m━━━━━━━━━━━━━━━━━━━━━━━━━━━━━━━━━━━━━━━━\u001b[0m \u001b[32m189.7/189.7 kB\u001b[0m \u001b[31m3.7 MB/s\u001b[0m eta \u001b[36m0:00:00\u001b[0m\n",
            "\u001b[?25hCollecting llama-index-llms-openai\n",
            "  Downloading llama_index_llms_openai-0.1.15-py3-none-any.whl (10 kB)\n",
            "Collecting llama-index-readers-file\n",
            "  Downloading llama_index_readers_file-0.1.16-py3-none-any.whl (36 kB)\n",
            "Collecting llama-index-agent-openai<0.3.0,>=0.1.4 (from llama-index)\n",
            "  Downloading llama_index_agent_openai-0.2.2-py3-none-any.whl (12 kB)\n",
            "Collecting llama-index-cli<0.2.0,>=0.1.2 (from llama-index)\n",
            "  Downloading llama_index_cli-0.1.11-py3-none-any.whl (26 kB)\n",
            "Collecting llama-index-core<0.11.0,>=0.10.28 (from llama-index)\n",
            "  Downloading llama_index_core-0.10.28-py3-none-any.whl (15.4 MB)\n",
            "\u001b[2K     \u001b[90m━━━━━━━━━━━━━━━━━━━━━━━━━━━━━━━━━━━━━━━━\u001b[0m \u001b[32m15.4/15.4 MB\u001b[0m \u001b[31m48.0 MB/s\u001b[0m eta \u001b[36m0:00:00\u001b[0m\n",
            "\u001b[?25hCollecting llama-index-embeddings-openai<0.2.0,>=0.1.5 (from llama-index)\n",
            "  Downloading llama_index_embeddings_openai-0.1.7-py3-none-any.whl (6.0 kB)\n",
            "Collecting llama-index-indices-managed-llama-cloud<0.2.0,>=0.1.2 (from llama-index)\n",
            "  Downloading llama_index_indices_managed_llama_cloud-0.1.5-py3-none-any.whl (6.7 kB)\n",
            "Collecting llama-index-legacy<0.10.0,>=0.9.48 (from llama-index)\n",
            "  Downloading llama_index_legacy-0.9.48-py3-none-any.whl (2.0 MB)\n",
            "\u001b[2K     \u001b[90m━━━━━━━━━━━━━━━━━━━━━━━━━━━━━━━━━━━━━━━━\u001b[0m \u001b[32m2.0/2.0 MB\u001b[0m \u001b[31m44.1 MB/s\u001b[0m eta \u001b[36m0:00:00\u001b[0m\n",
            "\u001b[?25hCollecting llama-index-multi-modal-llms-openai<0.2.0,>=0.1.3 (from llama-index)\n",
            "  Downloading llama_index_multi_modal_llms_openai-0.1.5-py3-none-any.whl (5.8 kB)\n",
            "Collecting llama-index-program-openai<0.2.0,>=0.1.3 (from llama-index)\n",
            "  Downloading llama_index_program_openai-0.1.5-py3-none-any.whl (4.1 kB)\n",
            "Collecting llama-index-question-gen-openai<0.2.0,>=0.1.2 (from llama-index)\n",
            "  Downloading llama_index_question_gen_openai-0.1.3-py3-none-any.whl (2.9 kB)\n",
            "Collecting llama-index-readers-llama-parse<0.2.0,>=0.1.2 (from llama-index)\n",
            "  Downloading llama_index_readers_llama_parse-0.1.4-py3-none-any.whl (2.5 kB)\n",
            "Requirement already satisfied: setuptools>=67 in /usr/local/lib/python3.10/dist-packages (from pymilvus) (67.7.2)\n",
            "Collecting grpcio<=1.60.0,>=1.49.1 (from pymilvus)\n",
            "  Downloading grpcio-1.60.0-cp310-cp310-manylinux_2_17_x86_64.manylinux2014_x86_64.whl (5.4 MB)\n",
            "\u001b[2K     \u001b[90m━━━━━━━━━━━━━━━━━━━━━━━━━━━━━━━━━━━━━━━━\u001b[0m \u001b[32m5.4/5.4 MB\u001b[0m \u001b[31m28.1 MB/s\u001b[0m eta \u001b[36m0:00:00\u001b[0m\n",
            "\u001b[?25hRequirement already satisfied: protobuf>=3.20.0 in /usr/local/lib/python3.10/dist-packages (from pymilvus) (3.20.3)\n",
            "Collecting environs<=9.5.0 (from pymilvus)\n",
            "  Downloading environs-9.5.0-py2.py3-none-any.whl (12 kB)\n",
            "Collecting ujson>=2.0.0 (from pymilvus)\n",
            "  Downloading ujson-5.9.0-cp310-cp310-manylinux_2_17_x86_64.manylinux2014_x86_64.whl (53 kB)\n",
            "\u001b[2K     \u001b[90m━━━━━━━━━━━━━━━━━━━━━━━━━━━━━━━━━━━━━━━━\u001b[0m \u001b[32m53.2/53.2 kB\u001b[0m \u001b[31m4.2 MB/s\u001b[0m eta \u001b[36m0:00:00\u001b[0m\n",
            "\u001b[?25hRequirement already satisfied: pandas>=1.2.4 in /usr/local/lib/python3.10/dist-packages (from pymilvus) (2.0.3)\n",
            "Requirement already satisfied: requests in /usr/local/lib/python3.10/dist-packages (from pymilvus) (2.31.0)\n",
            "Collecting minio>=7.0.0 (from pymilvus)\n",
            "  Downloading minio-7.2.5-py3-none-any.whl (93 kB)\n",
            "\u001b[2K     \u001b[90m━━━━━━━━━━━━━━━━━━━━━━━━━━━━━━━━━━━━━━━━\u001b[0m \u001b[32m93.2/93.2 kB\u001b[0m \u001b[31m10.6 MB/s\u001b[0m eta \u001b[36m0:00:00\u001b[0m\n",
            "\u001b[?25hRequirement already satisfied: pyarrow>=12.0.0 in /usr/local/lib/python3.10/dist-packages (from pymilvus) (14.0.2)\n",
            "Collecting azure-storage-blob (from pymilvus)\n",
            "  Downloading azure_storage_blob-12.19.1-py3-none-any.whl (394 kB)\n",
            "\u001b[2K     \u001b[90m━━━━━━━━━━━━━━━━━━━━━━━━━━━━━━━━━━━━━━━━\u001b[0m \u001b[32m394.5/394.5 kB\u001b[0m \u001b[31m25.9 MB/s\u001b[0m eta \u001b[36m0:00:00\u001b[0m\n",
            "\u001b[?25hRequirement already satisfied: scipy in /usr/local/lib/python3.10/dist-packages (from pymilvus) (1.11.4)\n",
            "Requirement already satisfied: beautifulsoup4<5.0.0,>=4.12.3 in /usr/local/lib/python3.10/dist-packages (from llama-index-readers-file) (4.12.3)\n",
            "Collecting pymupdf<2.0.0,>=1.23.21 (from llama-index-readers-file)\n",
            "  Downloading PyMuPDF-1.24.1-cp310-none-manylinux2014_x86_64.whl (3.9 MB)\n",
            "\u001b[2K     \u001b[90m━━━━━━━━━━━━━━━━━━━━━━━━━━━━━━━━━━━━━━━━\u001b[0m \u001b[32m3.9/3.9 MB\u001b[0m \u001b[31m42.8 MB/s\u001b[0m eta \u001b[36m0:00:00\u001b[0m\n",
            "\u001b[?25hCollecting pypdf<5.0.0,>=4.0.1 (from llama-index-readers-file)\n",
            "  Downloading pypdf-4.2.0-py3-none-any.whl (290 kB)\n",
            "\u001b[2K     \u001b[90m━━━━━━━━━━━━━━━━━━━━━━━━━━━━━━━━━━━━━━━━\u001b[0m \u001b[32m290.4/290.4 kB\u001b[0m \u001b[31m24.2 MB/s\u001b[0m eta \u001b[36m0:00:00\u001b[0m\n",
            "\u001b[?25hCollecting striprtf<0.0.27,>=0.0.26 (from llama-index-readers-file)\n",
            "  Downloading striprtf-0.0.26-py3-none-any.whl (6.9 kB)\n",
            "Requirement already satisfied: soupsieve>1.2 in /usr/local/lib/python3.10/dist-packages (from beautifulsoup4<5.0.0,>=4.12.3->llama-index-readers-file) (2.5)\n",
            "Collecting marshmallow>=3.0.0 (from environs<=9.5.0->pymilvus)\n",
            "  Downloading marshmallow-3.21.1-py3-none-any.whl (49 kB)\n",
            "\u001b[2K     \u001b[90m━━━━━━━━━━━━━━━━━━━━━━━━━━━━━━━━━━━━━━━━\u001b[0m \u001b[32m49.4/49.4 kB\u001b[0m \u001b[31m5.2 MB/s\u001b[0m eta \u001b[36m0:00:00\u001b[0m\n",
            "\u001b[?25hCollecting python-dotenv (from environs<=9.5.0->pymilvus)\n",
            "  Downloading python_dotenv-1.0.1-py3-none-any.whl (19 kB)\n",
            "Collecting openai>=1.14.0 (from llama-index-agent-openai<0.3.0,>=0.1.4->llama-index)\n",
            "  Downloading openai-1.16.2-py3-none-any.whl (267 kB)\n",
            "\u001b[2K     \u001b[90m━━━━━━━━━━━━━━━━━━━━━━━━━━━━━━━━━━━━━━━━\u001b[0m \u001b[32m267.1/267.1 kB\u001b[0m \u001b[31m23.1 MB/s\u001b[0m eta \u001b[36m0:00:00\u001b[0m\n",
            "\u001b[?25hRequirement already satisfied: PyYAML>=6.0.1 in /usr/local/lib/python3.10/dist-packages (from llama-index-core<0.11.0,>=0.10.28->llama-index) (6.0.1)\n",
            "Requirement already satisfied: SQLAlchemy[asyncio]>=1.4.49 in /usr/local/lib/python3.10/dist-packages (from llama-index-core<0.11.0,>=0.10.28->llama-index) (2.0.29)\n",
            "Requirement already satisfied: aiohttp<4.0.0,>=3.8.6 in /usr/local/lib/python3.10/dist-packages (from llama-index-core<0.11.0,>=0.10.28->llama-index) (3.9.3)\n",
            "Collecting dataclasses-json (from llama-index-core<0.11.0,>=0.10.28->llama-index)\n",
            "  Downloading dataclasses_json-0.6.4-py3-none-any.whl (28 kB)\n",
            "Collecting deprecated>=1.2.9.3 (from llama-index-core<0.11.0,>=0.10.28->llama-index)\n",
            "  Downloading Deprecated-1.2.14-py2.py3-none-any.whl (9.6 kB)\n",
            "Collecting dirtyjson<2.0.0,>=1.0.8 (from llama-index-core<0.11.0,>=0.10.28->llama-index)\n",
            "  Downloading dirtyjson-1.0.8-py3-none-any.whl (25 kB)\n",
            "Requirement already satisfied: fsspec>=2023.5.0 in /usr/local/lib/python3.10/dist-packages (from llama-index-core<0.11.0,>=0.10.28->llama-index) (2023.6.0)\n",
            "Collecting httpx (from llama-index-core<0.11.0,>=0.10.28->llama-index)\n",
            "  Downloading httpx-0.27.0-py3-none-any.whl (75 kB)\n",
            "\u001b[2K     \u001b[90m━━━━━━━━━━━━━━━━━━━━━━━━━━━━━━━━━━━━━━━━\u001b[0m \u001b[32m75.6/75.6 kB\u001b[0m \u001b[31m8.4 MB/s\u001b[0m eta \u001b[36m0:00:00\u001b[0m\n",
            "\u001b[?25hCollecting llamaindex-py-client<0.2.0,>=0.1.16 (from llama-index-core<0.11.0,>=0.10.28->llama-index)\n",
            "  Downloading llamaindex_py_client-0.1.16-py3-none-any.whl (135 kB)\n",
            "\u001b[2K     \u001b[90m━━━━━━━━━━━━━━━━━━━━━━━━━━━━━━━━━━━━━━━━\u001b[0m \u001b[32m136.0/136.0 kB\u001b[0m \u001b[31m5.8 MB/s\u001b[0m eta \u001b[36m0:00:00\u001b[0m\n",
            "\u001b[?25hRequirement already satisfied: nest-asyncio<2.0.0,>=1.5.8 in /usr/local/lib/python3.10/dist-packages (from llama-index-core<0.11.0,>=0.10.28->llama-index) (1.6.0)\n",
            "Requirement already satisfied: networkx>=3.0 in /usr/local/lib/python3.10/dist-packages (from llama-index-core<0.11.0,>=0.10.28->llama-index) (3.2.1)\n",
            "Requirement already satisfied: nltk<4.0.0,>=3.8.1 in /usr/local/lib/python3.10/dist-packages (from llama-index-core<0.11.0,>=0.10.28->llama-index) (3.8.1)\n",
            "Requirement already satisfied: numpy in /usr/local/lib/python3.10/dist-packages (from llama-index-core<0.11.0,>=0.10.28->llama-index) (1.25.2)\n",
            "Requirement already satisfied: pillow>=9.0.0 in /usr/local/lib/python3.10/dist-packages (from llama-index-core<0.11.0,>=0.10.28->llama-index) (9.4.0)\n",
            "Requirement already satisfied: tenacity<9.0.0,>=8.2.0 in /usr/local/lib/python3.10/dist-packages (from llama-index-core<0.11.0,>=0.10.28->llama-index) (8.2.3)\n",
            "Collecting tiktoken>=0.3.3 (from llama-index-core<0.11.0,>=0.10.28->llama-index)\n",
            "  Downloading tiktoken-0.6.0-cp310-cp310-manylinux_2_17_x86_64.manylinux2014_x86_64.whl (1.8 MB)\n",
            "\u001b[2K     \u001b[90m━━━━━━━━━━━━━━━━━━━━━━━━━━━━━━━━━━━━━━━━\u001b[0m \u001b[32m1.8/1.8 MB\u001b[0m \u001b[31m54.4 MB/s\u001b[0m eta \u001b[36m0:00:00\u001b[0m\n",
            "\u001b[?25hRequirement already satisfied: tqdm<5.0.0,>=4.66.1 in /usr/local/lib/python3.10/dist-packages (from llama-index-core<0.11.0,>=0.10.28->llama-index) (4.66.2)\n",
            "Requirement already satisfied: typing-extensions>=4.5.0 in /usr/local/lib/python3.10/dist-packages (from llama-index-core<0.11.0,>=0.10.28->llama-index) (4.10.0)\n",
            "Collecting typing-inspect>=0.8.0 (from llama-index-core<0.11.0,>=0.10.28->llama-index)\n",
            "  Downloading typing_inspect-0.9.0-py3-none-any.whl (8.8 kB)\n",
            "Requirement already satisfied: wrapt in /usr/local/lib/python3.10/dist-packages (from llama-index-core<0.11.0,>=0.10.28->llama-index) (1.14.1)\n",
            "Collecting llama-parse<0.5.0,>=0.4.0 (from llama-index-readers-llama-parse<0.2.0,>=0.1.2->llama-index)\n",
            "  Downloading llama_parse-0.4.0-py3-none-any.whl (7.0 kB)\n",
            "Requirement already satisfied: certifi in /usr/local/lib/python3.10/dist-packages (from minio>=7.0.0->pymilvus) (2024.2.2)\n",
            "Requirement already satisfied: urllib3 in /usr/local/lib/python3.10/dist-packages (from minio>=7.0.0->pymilvus) (2.0.7)\n",
            "Requirement already satisfied: argon2-cffi in /usr/local/lib/python3.10/dist-packages (from minio>=7.0.0->pymilvus) (23.1.0)\n",
            "Collecting pycryptodome (from minio>=7.0.0->pymilvus)\n",
            "  Downloading pycryptodome-3.20.0-cp35-abi3-manylinux_2_17_x86_64.manylinux2014_x86_64.whl (2.1 MB)\n",
            "\u001b[2K     \u001b[90m━━━━━━━━━━━━━━━━━━━━━━━━━━━━━━━━━━━━━━━━\u001b[0m \u001b[32m2.1/2.1 MB\u001b[0m \u001b[31m85.4 MB/s\u001b[0m eta \u001b[36m0:00:00\u001b[0m\n",
            "\u001b[?25hRequirement already satisfied: python-dateutil>=2.8.2 in /usr/local/lib/python3.10/dist-packages (from pandas>=1.2.4->pymilvus) (2.8.2)\n",
            "Requirement already satisfied: pytz>=2020.1 in /usr/local/lib/python3.10/dist-packages (from pandas>=1.2.4->pymilvus) (2023.4)\n",
            "Requirement already satisfied: tzdata>=2022.1 in /usr/local/lib/python3.10/dist-packages (from pandas>=1.2.4->pymilvus) (2024.1)\n",
            "Collecting PyMuPDFb==1.24.1 (from pymupdf<2.0.0,>=1.23.21->llama-index-readers-file)\n",
            "  Downloading PyMuPDFb-1.24.1-py3-none-manylinux2014_x86_64.manylinux_2_17_x86_64.whl (30.8 MB)\n",
            "\u001b[2K     \u001b[90m━━━━━━━━━━━━━━━━━━━━━━━━━━━━━━━━━━━━━━━━\u001b[0m \u001b[32m30.8/30.8 MB\u001b[0m \u001b[31m41.1 MB/s\u001b[0m eta \u001b[36m0:00:00\u001b[0m\n",
            "\u001b[?25hRequirement already satisfied: charset-normalizer<4,>=2 in /usr/local/lib/python3.10/dist-packages (from requests->pymilvus) (3.3.2)\n",
            "Requirement already satisfied: idna<4,>=2.5 in /usr/local/lib/python3.10/dist-packages (from requests->pymilvus) (3.6)\n",
            "Collecting azure-core<2.0.0,>=1.28.0 (from azure-storage-blob->pymilvus)\n",
            "  Downloading azure_core-1.30.1-py3-none-any.whl (193 kB)\n",
            "\u001b[2K     \u001b[90m━━━━━━━━━━━━━━━━━━━━━━━━━━━━━━━━━━━━━━━━\u001b[0m \u001b[32m193.4/193.4 kB\u001b[0m \u001b[31m21.4 MB/s\u001b[0m eta \u001b[36m0:00:00\u001b[0m\n",
            "\u001b[?25hRequirement already satisfied: cryptography>=2.1.4 in /usr/local/lib/python3.10/dist-packages (from azure-storage-blob->pymilvus) (42.0.5)\n",
            "Collecting isodate>=0.6.1 (from azure-storage-blob->pymilvus)\n",
            "  Downloading isodate-0.6.1-py2.py3-none-any.whl (41 kB)\n",
            "\u001b[2K     \u001b[90m━━━━━━━━━━━━━━━━━━━━━━━━━━━━━━━━━━━━━━━━\u001b[0m \u001b[32m41.7/41.7 kB\u001b[0m \u001b[31m5.1 MB/s\u001b[0m eta \u001b[36m0:00:00\u001b[0m\n",
            "\u001b[?25hRequirement already satisfied: aiosignal>=1.1.2 in /usr/local/lib/python3.10/dist-packages (from aiohttp<4.0.0,>=3.8.6->llama-index-core<0.11.0,>=0.10.28->llama-index) (1.3.1)\n",
            "Requirement already satisfied: attrs>=17.3.0 in /usr/local/lib/python3.10/dist-packages (from aiohttp<4.0.0,>=3.8.6->llama-index-core<0.11.0,>=0.10.28->llama-index) (23.2.0)\n",
            "Requirement already satisfied: frozenlist>=1.1.1 in /usr/local/lib/python3.10/dist-packages (from aiohttp<4.0.0,>=3.8.6->llama-index-core<0.11.0,>=0.10.28->llama-index) (1.4.1)\n",
            "Requirement already satisfied: multidict<7.0,>=4.5 in /usr/local/lib/python3.10/dist-packages (from aiohttp<4.0.0,>=3.8.6->llama-index-core<0.11.0,>=0.10.28->llama-index) (6.0.5)\n",
            "Requirement already satisfied: yarl<2.0,>=1.0 in /usr/local/lib/python3.10/dist-packages (from aiohttp<4.0.0,>=3.8.6->llama-index-core<0.11.0,>=0.10.28->llama-index) (1.9.4)\n",
            "Requirement already satisfied: async-timeout<5.0,>=4.0 in /usr/local/lib/python3.10/dist-packages (from aiohttp<4.0.0,>=3.8.6->llama-index-core<0.11.0,>=0.10.28->llama-index) (4.0.3)\n",
            "Requirement already satisfied: six>=1.11.0 in /usr/local/lib/python3.10/dist-packages (from azure-core<2.0.0,>=1.28.0->azure-storage-blob->pymilvus) (1.16.0)\n",
            "Requirement already satisfied: cffi>=1.12 in /usr/local/lib/python3.10/dist-packages (from cryptography>=2.1.4->azure-storage-blob->pymilvus) (1.16.0)\n",
            "Requirement already satisfied: pydantic>=1.10 in /usr/local/lib/python3.10/dist-packages (from llamaindex-py-client<0.2.0,>=0.1.16->llama-index-core<0.11.0,>=0.10.28->llama-index) (2.6.4)\n",
            "Requirement already satisfied: anyio in /usr/local/lib/python3.10/dist-packages (from httpx->llama-index-core<0.11.0,>=0.10.28->llama-index) (3.7.1)\n",
            "Collecting httpcore==1.* (from httpx->llama-index-core<0.11.0,>=0.10.28->llama-index)\n",
            "  Downloading httpcore-1.0.5-py3-none-any.whl (77 kB)\n",
            "\u001b[2K     \u001b[90m━━━━━━━━━━━━━━━━━━━━━━━━━━━━━━━━━━━━━━━━\u001b[0m \u001b[32m77.9/77.9 kB\u001b[0m \u001b[31m9.9 MB/s\u001b[0m eta \u001b[36m0:00:00\u001b[0m\n",
            "\u001b[?25hRequirement already satisfied: sniffio in /usr/local/lib/python3.10/dist-packages (from httpx->llama-index-core<0.11.0,>=0.10.28->llama-index) (1.3.1)\n",
            "Collecting h11<0.15,>=0.13 (from httpcore==1.*->httpx->llama-index-core<0.11.0,>=0.10.28->llama-index)\n",
            "  Downloading h11-0.14.0-py3-none-any.whl (58 kB)\n",
            "\u001b[2K     \u001b[90m━━━━━━━━━━━━━━━━━━━━━━━━━━━━━━━━━━━━━━━━\u001b[0m \u001b[32m58.3/58.3 kB\u001b[0m \u001b[31m6.5 MB/s\u001b[0m eta \u001b[36m0:00:00\u001b[0m\n",
            "\u001b[?25hRequirement already satisfied: packaging>=17.0 in /usr/local/lib/python3.10/dist-packages (from marshmallow>=3.0.0->environs<=9.5.0->pymilvus) (24.0)\n",
            "Requirement already satisfied: click in /usr/local/lib/python3.10/dist-packages (from nltk<4.0.0,>=3.8.1->llama-index-core<0.11.0,>=0.10.28->llama-index) (8.1.7)\n",
            "Requirement already satisfied: joblib in /usr/local/lib/python3.10/dist-packages (from nltk<4.0.0,>=3.8.1->llama-index-core<0.11.0,>=0.10.28->llama-index) (1.3.2)\n",
            "Requirement already satisfied: regex>=2021.8.3 in /usr/local/lib/python3.10/dist-packages (from nltk<4.0.0,>=3.8.1->llama-index-core<0.11.0,>=0.10.28->llama-index) (2023.12.25)\n",
            "Requirement already satisfied: distro<2,>=1.7.0 in /usr/lib/python3/dist-packages (from openai>=1.14.0->llama-index-agent-openai<0.3.0,>=0.1.4->llama-index) (1.7.0)\n",
            "Requirement already satisfied: greenlet!=0.4.17 in /usr/local/lib/python3.10/dist-packages (from SQLAlchemy[asyncio]>=1.4.49->llama-index-core<0.11.0,>=0.10.28->llama-index) (3.0.3)\n",
            "Collecting mypy-extensions>=0.3.0 (from typing-inspect>=0.8.0->llama-index-core<0.11.0,>=0.10.28->llama-index)\n",
            "  Downloading mypy_extensions-1.0.0-py3-none-any.whl (4.7 kB)\n",
            "Requirement already satisfied: argon2-cffi-bindings in /usr/local/lib/python3.10/dist-packages (from argon2-cffi->minio>=7.0.0->pymilvus) (21.2.0)\n",
            "Requirement already satisfied: exceptiongroup in /usr/local/lib/python3.10/dist-packages (from anyio->httpx->llama-index-core<0.11.0,>=0.10.28->llama-index) (1.2.0)\n",
            "Requirement already satisfied: pycparser in /usr/local/lib/python3.10/dist-packages (from cffi>=1.12->cryptography>=2.1.4->azure-storage-blob->pymilvus) (2.22)\n",
            "Requirement already satisfied: annotated-types>=0.4.0 in /usr/local/lib/python3.10/dist-packages (from pydantic>=1.10->llamaindex-py-client<0.2.0,>=0.1.16->llama-index-core<0.11.0,>=0.10.28->llama-index) (0.6.0)\n",
            "Requirement already satisfied: pydantic-core==2.16.3 in /usr/local/lib/python3.10/dist-packages (from pydantic>=1.10->llamaindex-py-client<0.2.0,>=0.1.16->llama-index-core<0.11.0,>=0.10.28->llama-index) (2.16.3)\n",
            "Installing collected packages: striprtf, dirtyjson, ujson, python-dotenv, pypdf, PyMuPDFb, pycryptodome, mypy-extensions, marshmallow, isodate, h11, grpcio, deprecated, typing-inspect, tiktoken, pymupdf, httpcore, environs, azure-core, httpx, dataclasses-json, azure-storage-blob, openai, minio, llamaindex-py-client, pymilvus, llama-index-legacy, llama-index-core, llama-parse, llama-index-vector-stores-milvus, llama-index-readers-file, llama-index-llms-openai, llama-index-indices-managed-llama-cloud, llama-index-embeddings-openai, llama-index-readers-llama-parse, llama-index-multi-modal-llms-openai, llama-index-cli, llama-index-agent-openai, llama-index-program-openai, llama-index-question-gen-openai, llama-index\n",
            "  Attempting uninstall: grpcio\n",
            "    Found existing installation: grpcio 1.62.1\n",
            "    Uninstalling grpcio-1.62.1:\n",
            "      Successfully uninstalled grpcio-1.62.1\n",
            "Successfully installed PyMuPDFb-1.24.1 azure-core-1.30.1 azure-storage-blob-12.19.1 dataclasses-json-0.6.4 deprecated-1.2.14 dirtyjson-1.0.8 environs-9.5.0 grpcio-1.60.0 h11-0.14.0 httpcore-1.0.5 httpx-0.27.0 isodate-0.6.1 llama-index-0.10.28 llama-index-agent-openai-0.2.2 llama-index-cli-0.1.11 llama-index-core-0.10.28 llama-index-embeddings-openai-0.1.7 llama-index-indices-managed-llama-cloud-0.1.5 llama-index-legacy-0.9.48 llama-index-llms-openai-0.1.15 llama-index-multi-modal-llms-openai-0.1.5 llama-index-program-openai-0.1.5 llama-index-question-gen-openai-0.1.3 llama-index-readers-file-0.1.16 llama-index-readers-llama-parse-0.1.4 llama-index-vector-stores-milvus-0.1.8 llama-parse-0.4.0 llamaindex-py-client-0.1.16 marshmallow-3.21.1 minio-7.2.5 mypy-extensions-1.0.0 openai-1.16.2 pycryptodome-3.20.0 pymilvus-2.4.0 pymupdf-1.24.1 pypdf-4.2.0 python-dotenv-1.0.1 striprtf-0.0.26 tiktoken-0.6.0 typing-inspect-0.9.0 ujson-5.9.0\n"
          ]
        }
      ]
    },
    {
      "cell_type": "code",
      "source": [
        "# 卸載 grpcio，然後安裝特定版本的 grpcio（1.60.0）安裝其他的版本可能會導致衝突\n",
        "!pip uninstall grpcio\n",
        "!pip install grpcio==1.60.0"
      ],
      "metadata": {
        "colab": {
          "base_uri": "https://localhost:8080/",
          "height": 312
        },
        "id": "TfOyODZO1Yws",
        "outputId": "61b6e02a-0aec-4570-8d72-9c3fff11aeee"
      },
      "execution_count": 5,
      "outputs": [
        {
          "output_type": "stream",
          "name": "stdout",
          "text": [
            "Found existing installation: grpcio 1.60.0\n",
            "Uninstalling grpcio-1.60.0:\n",
            "  Would remove:\n",
            "    /usr/local/lib/python3.10/dist-packages/grpc/*\n",
            "    /usr/local/lib/python3.10/dist-packages/grpcio-1.60.0.dist-info/*\n",
            "Proceed (Y/n)? y\n",
            "  Successfully uninstalled grpcio-1.60.0\n",
            "Collecting grpcio==1.60.0\n",
            "  Using cached grpcio-1.60.0-cp310-cp310-manylinux_2_17_x86_64.manylinux2014_x86_64.whl (5.4 MB)\n",
            "Installing collected packages: grpcio\n",
            "Successfully installed grpcio-1.60.0\n"
          ]
        },
        {
          "output_type": "display_data",
          "data": {
            "application/vnd.colab-display-data+json": {
              "pip_warning": {
                "packages": [
                  "grpc"
                ]
              },
              "id": "c69ccec6d930491eb327574fbc0798fa"
            }
          },
          "metadata": {}
        }
      ]
    },
    {
      "cell_type": "code",
      "source": [
        "import os\n",
        "from google.colab import userdata\n",
        "\n",
        "# 設定OpenAI API密鑰\n",
        "os.environ[\"OPENAI_API_KEY\"] = userdata.get('OPENAI_API_KEY')"
      ],
      "metadata": {
        "id": "XmseL1MZ1CCx"
      },
      "execution_count": 1,
      "outputs": []
    },
    {
      "cell_type": "code",
      "source": [
        "from llama_index.core import (\n",
        "   SimpleDirectoryReader,\n",
        "   VectorStoreIndex,\n",
        "   StorageContext\n",
        ")\n",
        "from llama_index.core.tools import QueryEngineTool, ToolMetadata\n",
        "from llama_index.core.query_engine import CitationQueryEngine\n",
        "from llama_index.vector_stores.milvus import MilvusVectorStore"
      ],
      "metadata": {
        "id": "u8NsMQlv04Pt"
      },
      "execution_count": 2,
      "outputs": []
    },
    {
      "cell_type": "code",
      "source": [
        "from milvus import default_server\n",
        "# 啟動 Milvus lite 服務。\n",
        "default_server.stop()\n",
        "default_server.cleanup()\n",
        "default_server.start()"
      ],
      "metadata": {
        "id": "ipqYGeeB2Auy"
      },
      "execution_count": 3,
      "outputs": []
    },
    {
      "cell_type": "code",
      "source": [
        "!wget 'https://drive.google.com/uc?export=download&id=1kDwfFbMC3nM0K7OTXu88cczYBFm10pQT' -O 原住民資料.pdf"
      ],
      "metadata": {
        "colab": {
          "base_uri": "https://localhost:8080/"
        },
        "id": "qi8D6j216Txk",
        "outputId": "601ad860-1d4b-46a3-c110-9b1eb48e4a84"
      },
      "execution_count": 4,
      "outputs": [
        {
          "output_type": "stream",
          "name": "stdout",
          "text": [
            "--2024-04-10 15:21:59--  https://drive.google.com/uc?export=download&id=1kDwfFbMC3nM0K7OTXu88cczYBFm10pQT\n",
            "Resolving drive.google.com (drive.google.com)... 142.250.145.138, 142.250.145.102, 142.250.145.139, ...\n",
            "Connecting to drive.google.com (drive.google.com)|142.250.145.138|:443... connected.\n",
            "HTTP request sent, awaiting response... 303 See Other\n",
            "Location: https://drive.usercontent.google.com/download?id=1kDwfFbMC3nM0K7OTXu88cczYBFm10pQT&export=download [following]\n",
            "--2024-04-10 15:21:59--  https://drive.usercontent.google.com/download?id=1kDwfFbMC3nM0K7OTXu88cczYBFm10pQT&export=download\n",
            "Resolving drive.usercontent.google.com (drive.usercontent.google.com)... 108.177.119.132, 2a00:1450:4013:c00::84\n",
            "Connecting to drive.usercontent.google.com (drive.usercontent.google.com)|108.177.119.132|:443... connected.\n",
            "HTTP request sent, awaiting response... 200 OK\n",
            "Length: 5073207 (4.8M) [application/octet-stream]\n",
            "Saving to: ‘原住民資料.pdf’\n",
            "\n",
            "原住民資料.pdf      100%[===================>]   4.84M  26.0MB/s    in 0.2s    \n",
            "\n",
            "2024-04-10 15:22:02 (26.0 MB/s) - ‘原住民資料.pdf’ saved [5073207/5073207]\n",
            "\n"
          ]
        }
      ]
    },
    {
      "cell_type": "code",
      "source": [
        "# load data\n",
        "tw_docs = SimpleDirectoryReader(\n",
        "   input_files=[\"./原住民資料.pdf\"]\n",
        ").load_data()"
      ],
      "metadata": {
        "colab": {
          "base_uri": "https://localhost:8080/"
        },
        "id": "hnpW8T492FP4",
        "outputId": "57ccb07e-e485-4df8-fe5c-291d6fd148fa"
      },
      "execution_count": 5,
      "outputs": [
        {
          "output_type": "stream",
          "name": "stderr",
          "text": [
            "WARNING:pypdf._reader:Ignoring wrong pointing object 6 0 (offset 0)\n",
            "WARNING:pypdf._reader:Ignoring wrong pointing object 8 0 (offset 0)\n",
            "WARNING:pypdf._reader:Ignoring wrong pointing object 10 0 (offset 0)\n",
            "WARNING:pypdf._reader:Ignoring wrong pointing object 12 0 (offset 0)\n",
            "WARNING:pypdf._reader:Ignoring wrong pointing object 28 0 (offset 0)\n",
            "WARNING:pypdf._reader:Ignoring wrong pointing object 40 0 (offset 0)\n",
            "WARNING:pypdf._reader:Ignoring wrong pointing object 53 0 (offset 0)\n",
            "WARNING:pypdf._reader:Ignoring wrong pointing object 55 0 (offset 0)\n",
            "WARNING:pypdf._reader:Ignoring wrong pointing object 71 0 (offset 0)\n",
            "WARNING:pypdf._reader:Ignoring wrong pointing object 73 0 (offset 0)\n",
            "WARNING:pypdf._reader:Ignoring wrong pointing object 75 0 (offset 0)\n",
            "WARNING:pypdf._reader:Ignoring wrong pointing object 77 0 (offset 0)\n",
            "WARNING:pypdf._reader:Ignoring wrong pointing object 100 0 (offset 0)\n",
            "WARNING:pypdf._reader:Ignoring wrong pointing object 119 0 (offset 0)\n",
            "WARNING:pypdf._reader:Ignoring wrong pointing object 136 0 (offset 0)\n",
            "WARNING:pypdf._reader:Ignoring wrong pointing object 261 0 (offset 0)\n",
            "WARNING:pypdf._reader:Ignoring wrong pointing object 263 0 (offset 0)\n",
            "WARNING:pypdf._reader:Ignoring wrong pointing object 274 0 (offset 0)\n",
            "WARNING:pypdf._reader:Ignoring wrong pointing object 276 0 (offset 0)\n",
            "WARNING:pypdf._reader:Ignoring wrong pointing object 278 0 (offset 0)\n",
            "WARNING:pypdf._reader:Ignoring wrong pointing object 282 0 (offset 0)\n",
            "WARNING:pypdf._reader:Ignoring wrong pointing object 347 0 (offset 0)\n",
            "WARNING:pypdf._reader:Ignoring wrong pointing object 426 0 (offset 0)\n",
            "WARNING:pypdf._reader:Ignoring wrong pointing object 492 0 (offset 0)\n",
            "WARNING:pypdf._reader:Ignoring wrong pointing object 513 0 (offset 0)\n",
            "WARNING:pypdf._reader:Ignoring wrong pointing object 525 0 (offset 0)\n",
            "WARNING:pypdf._reader:Ignoring wrong pointing object 1182 0 (offset 0)\n",
            "WARNING:pypdf._reader:Ignoring wrong pointing object 1184 0 (offset 0)\n",
            "WARNING:pypdf._reader:Ignoring wrong pointing object 1212 0 (offset 0)\n",
            "WARNING:pypdf._reader:Ignoring wrong pointing object 1354 0 (offset 0)\n",
            "WARNING:pypdf._reader:Ignoring wrong pointing object 1499 0 (offset 0)\n",
            "WARNING:pypdf._reader:Ignoring wrong pointing object 1504 0 (offset 0)\n",
            "WARNING:pypdf._reader:Ignoring wrong pointing object 1736 0 (offset 0)\n",
            "WARNING:pypdf._reader:Ignoring wrong pointing object 1744 0 (offset 0)\n",
            "WARNING:pypdf._reader:Ignoring wrong pointing object 1746 0 (offset 0)\n",
            "WARNING:pypdf._reader:Ignoring wrong pointing object 1754 0 (offset 0)\n",
            "WARNING:pypdf._reader:Ignoring wrong pointing object 1756 0 (offset 0)\n",
            "WARNING:pypdf._reader:Ignoring wrong pointing object 1758 0 (offset 0)\n",
            "WARNING:pypdf._reader:Ignoring wrong pointing object 1770 0 (offset 0)\n",
            "WARNING:pypdf._reader:Ignoring wrong pointing object 1933 0 (offset 0)\n",
            "WARNING:pypdf._reader:Ignoring wrong pointing object 1977 0 (offset 0)\n",
            "WARNING:pypdf._reader:Ignoring wrong pointing object 2043 0 (offset 0)\n",
            "WARNING:pypdf._reader:Ignoring wrong pointing object 2057 0 (offset 0)\n",
            "WARNING:pypdf._reader:Ignoring wrong pointing object 2065 0 (offset 0)\n"
          ]
        }
      ]
    },
    {
      "cell_type": "code",
      "source": [
        "# build index\n",
        "# vector_store_tw = MilvusVectorStore(dim=1536, collection_name=\"tw\", overwrite=True)\n",
        "\n",
        "# for milvus lite users\n",
        "# vector_store_tw = MilvusVectorStore(host=\"localhost\", port=default_server.listen_port, dim=1536, collection_name=\"tw\", overwrite=True)\n",
        "# vector_store = MilvusVectorStore(\n",
        "#     collection_name=\"citations\",\n",
        "#     host=\"127.0.0.1\",\n",
        "#     port=default_server.listen_port,\n",
        "#     dim=vector_dimension\n",
        "# )\n",
        "\n",
        "vector_store = MilvusVectorStore(\n",
        "    collection_name=\"citations\",\n",
        "    host=\"127.0.0.1\",\n",
        "    port=default_server.listen_port,\n",
        "    dim=1536,\n",
        "    output_fields=[\"document_id\", \"title_vector\", \"summary_vector\"]\n",
        ")"
      ],
      "metadata": {
        "colab": {
          "base_uri": "https://localhost:8080/"
        },
        "id": "2iy810Gg3LBx",
        "outputId": "36179f17-4ba8-43a1-c572-60794e617e03"
      },
      "execution_count": 6,
      "outputs": [
        {
          "output_type": "stream",
          "name": "stderr",
          "text": [
            "DEBUG:pymilvus.milvus_client.milvus_client:Created new connection using: e9234b5a0a3f482587b3d461fd6c3a13\n",
            "DEBUG:pymilvus.milvus_client.milvus_client:Successfully created collection: citations\n",
            "DEBUG:pymilvus.milvus_client.milvus_client:Successfully created an index on collection: citations\n"
          ]
        }
      ]
    },
    {
      "cell_type": "markdown",
      "source": [],
      "metadata": {
        "id": "fSKGPewz5BdS"
      }
    },
    {
      "cell_type": "code",
      "source": [
        "storage_context_tw = StorageContext.from_defaults(vector_store=vector_store)\n",
        "tw_index = VectorStoreIndex.from_documents(tw_docs, storage_context=storage_context_tw)\n",
        "\n",
        "# persist index\n",
        "tw_index.storage_context.persist(persist_dir=\"./storage/tw\")"
      ],
      "metadata": {
        "id": "55MwYppY29Am"
      },
      "execution_count": 7,
      "outputs": []
    },
    {
      "cell_type": "code",
      "source": [
        "tw_engine = tw_index.as_query_engine(similarity_top_k=3)"
      ],
      "metadata": {
        "id": "XuUrkIQ15KXk"
      },
      "execution_count": 8,
      "outputs": []
    },
    {
      "cell_type": "code",
      "source": [
        "tw_citation_engine = CitationQueryEngine.from_args(\n",
        "    tw_index,\n",
        "    similarity_top_k=3,\n",
        "    citation_chunk_size=512,\n",
        ")"
      ],
      "metadata": {
        "id": "8uGJHlX2GBBN"
      },
      "execution_count": 9,
      "outputs": []
    },
    {
      "cell_type": "code",
      "source": [
        "response = tw_citation_engine.query(\"台灣有哪些原住民族？請你說出每一族的特色\")\n",
        "print(response)\n",
        "\n",
        "for source in response.source_nodes:\n",
        "    print(source.node.get_text())"
      ],
      "metadata": {
        "colab": {
          "base_uri": "https://localhost:8080/"
        },
        "id": "iD6ppclnoApB",
        "outputId": "6785f156-159d-4855-c834-386521303a15"
      },
      "execution_count": 28,
      "outputs": [
        {
          "output_type": "stream",
          "name": "stdout",
          "text": [
            "台灣有16個原住民族，包括阿美族、泰雅族、排灣族、布農族、卑南族、魯凱族、鄒族、賽夏族、雅美族、邵族、噶瑪蘭族、太魯閣族、撒奇萊雅族、賽德克族、拉阿魯哇族、卡那卡那富族。每個族群都有獨特的特色和分佈區域[1][2][3][6][7]。\n",
            "Source 1:\n",
            "台灣每一個民族都有其獨特而值得驕傲的文化特色，值得珍惜、保存與 發揚。清朝時期漢人大量移民來台，強制的同化政策導致平埔族原住民人的血緣與文化，面臨空前的消失危機，令世人遺憾。今日我們有幸仍保留先民特色的十餘族原住民，未來在台灣文化的發展中仍繼續扮演著重要的角色，也成為台灣最重要的文化資產。   原住民族分佈  引用自\t台灣原住民族分佈「台灣族群母語推行委員會」製圖\t根據原民會網站的說明： 台灣原住民族約有53萬人，佔總人 口數的2﹪，目前，經政府認定的原住民族有：阿美族、泰雅族、排灣族、布農族、卑南族、魯凱族、鄒族、賽夏族、雅美族、邵族、噶瑪蘭族、太魯閣族、撒奇萊 雅族、賽德克族、拉阿魯哇族、卡那卡那富族等16族。\n",
            "\n",
            "Source 2:\n",
            "阿美族：阿美族分佈在中央山脈東側，立霧溪以南，太平洋沿岸的東台縱谷及東海岸平原，大部份居住於平地，只有極少數居於山谷中。 泰雅族：泰雅族分布在台灣中北部山區，包括埔里至花蓮連線以北地區。 排灣族：排灣族以台灣南部為活動區域，北起大武山地，南達恆春，西自隘寮，東到太麻里以南海岸。 布農族：布農族分布於中央山脈海拔一千至二千公尺的山區，廣及於高雄縣那瑪夏鄉、台東縣海端鄉，而以南投縣境為主。 卑南族：卑南族分布於台東縱谷南部。 魯凱族：魯凱族分布於高雄縣茂林鄉、屏東縣霧台鄉及台東縣東興村等地。 鄒族：鄒族主要居住於嘉義縣阿里山鄉，亦分布於南投縣信義鄉。 賽夏族：賽夏族居住於新竹縣與苗栗縣交界的山區，又分為南、北兩大族群。\n",
            "\n",
            "Source 3:\n",
            "北賽夏居住於新竹縣五峰鄉，南賽夏居住於苗栗縣南庄鄉與獅潭鄉。\n",
            "\n",
            "Source 4:\n",
            "族群概述 台灣位居歐亞大陸與太平洋盆地、親潮與黑潮、漢族與南島民族等多元地理環境、文化與族群的匯流交會地帶。台灣原住民屬於南島語族（Austronesian）的一支，包含原住民各族及與漢文化互相涵化的平埔諸族。不到台灣總人口數百分之二的南島語族，居住活動地分佈達一萬六千餘平方公里，佔全台灣面積百分之四十五。在台灣變異性極大的自然環境中，原住民因應不同的生態而發展出不同型態的採集、狩獵、漁撈及農耕的方式；同時，也衍生出不同的聚落型態及建築方式。因此，文化反映著族群跟自然環境的對話關係，在台灣這個生態多樣性的海島，也孕育出台灣原住民文化多樣性的豐富內涵。 生態、聚落型態及建築方式        什麼樣的地理環境，建築出什麼樣的居住文化，原住民非常懂得因地制宜。\n",
            "\n",
            "Source 5:\n",
            "達悟族「半穴居」，符合蘭嶼海島夏季多颱風、冬天東北季風肆虐的氣候；排灣、魯凱、布農族的「石板屋」，除了是因為當地河床盛產石板頁岩外，更重要的是黑灰色的石板屋深藏於叢山密林中，不易讓人覺察；居住在高山地區的泰雅、太魯閣、賽夏、鄒等族，則選擇以竹子、樹木、茅草為材，搭建自己的家屋。早期居住在平原地帶的平埔諸族，其建築型式有干欄式、平台式，石材亦就地取材，包括竹子、茅草----（陳雨嵐 2004：152）。 台灣原住民的語言        全世界的南島民族總人口數將近三億，在地理上的分布極廣，東起南美洲西岸的復活島，西到非洲東岸的馬達加斯加島，南到紐西蘭，而台灣是分布的最北端，目前所知此一南島語族內的語言有一千種左右。目前，台灣島上的原住民人數約有50多萬人，雖然僅佔了世界南島民族人口總數的0.\n",
            "\n",
            "Source 6:\n",
            "風俗習慣和社會結構，對台灣而言，原住民族是歷史與文化的重要根源，也是獨一無二的美麗瑰寶。 阿美族：傳統範圍分布廣泛，幅員較其他族為狹長，分布於花蓮縣、臺東縣及屏東縣的海岸平原及丘陵地，以池上、關山為界，以北自稱Pangcah，以南自稱Amis。 泰雅族：分布在臺灣北部中央山脈兩側，橫跨宜蘭縣、新北市、桃園市、新竹縣、苗栗縣、臺中市與南投縣，占臺灣中北部三分之一的山區，包括和平溪、南澳溪、蘭陽溪、大漢溪、中港溪、後龍溪、大安溪、大甲溪、北港溪與濁水溪等溪流的主流與支流流域。\n",
            "\n",
            "Source 7:\n",
            "排灣族：分布於屏東縣、臺東縣兩縣，行政區域共計12鄉鎮，橫跨中央山脈南段山地兩側，除屏東縣滿洲鄉、臺東縣大武鄉、太麻里鄉為平地行政區域並與其他族群混居外，餘均屬山地鄉，分布區塊緊連且完整。 布農族：居住於中央山脈兩側，以bunun一詞來稱呼自己，北自南投仁愛鄉、信義鄉，南達高雄市桃源區、那瑪夏區，以及花東地區的萬榮鄉、卓溪鄉、海端鄉、延平鄉。 卑南族：居住於北起卑南溪流域，南至知本溪之間近山處之臺東平原一帶。 魯凱族：居住於中央山脈南段兩側（阿里山以南，大武山以北）之山地，濁口溪、隘寮南北溪、大南溪流域的山區及呂加溪流域。 鄒族：居住於嘉義縣阿里山鄉及南投縣信義鄉。\n",
            "\n"
          ]
        }
      ]
    },
    {
      "cell_type": "code",
      "source": [
        "query_engine_tools = [\n",
        "   QueryEngineTool(\n",
        "       query_engine=tw_citation_engine,\n",
        "       metadata=ToolMetadata(\n",
        "           name=\"Taiwanese\",\n",
        "           description=(\n",
        "               \"提供台灣的原住民資料、節慶、慶典、歷史故事。 \"\n",
        "               \"Use a detailed plain text question as input to the tool.\"\n",
        "           ),\n",
        "       ),\n",
        "   ),\n",
        "]"
      ],
      "metadata": {
        "id": "54vhDJi5A4yx"
      },
      "execution_count": 17,
      "outputs": []
    },
    {
      "cell_type": "code",
      "source": [
        "from llama_index.core.agent import ReActAgent\n",
        "from llama_index.llms.openai import OpenAI\n",
        "llm = OpenAI(model=\"gpt-3.5-turbo-0613\")\n",
        "\n",
        "agent = ReActAgent.from_tools(\n",
        "   query_engine_tools,\n",
        "   llm=llm,\n",
        "   verbose=True\n",
        ")\n",
        "\n",
        "response = agent.chat(\"你知道阿美族嗎？可以詳細介紹他嗎？\")\n",
        "print(str(response))"
      ],
      "metadata": {
        "colab": {
          "base_uri": "https://localhost:8080/"
        },
        "id": "A43TWJbKDTM3",
        "outputId": "bb880f74-40d9-4282-dc30-0db2e4c7968d"
      },
      "execution_count": 22,
      "outputs": [
        {
          "output_type": "stream",
          "name": "stdout",
          "text": [
            "\u001b[1;3;38;5;200mThought: The current language of the user is: zh_TW. I need to use a tool to help me answer the question.\n",
            "Action: Taiwanese\n",
            "Action Input: {'input': '阿美族'}\n",
            "\u001b[0m\u001b[1;3;34mObservation: 阿美族是台灣原住民族群中人口最多的一族，主要分布在中央山脈以東、立霧溪以南的平原地區，包含花蓮、台東、以及屏東縣的恆春半島[1][4]。 阿美族人的部落式民族社會在歷經衝突與調適後，逐漸與外來的國家力量取得平衡[3]。\n",
            "\u001b[0m\u001b[1;3;38;5;200mThought: I can answer without using any more tools. I'll use the user's language to answer.\n",
            "Answer: 阿美族是台灣原住民族群中人口最多的一個族群，主要分布在台灣中央山脈以東、立霧溪以南的平原地區，包括花蓮、台東和屏東縣的恆春半島。阿美族的部落式民族社會經過衝突和調適後，逐漸與外來的國家力量達成平衡。\n",
            "\u001b[0m阿美族是台灣原住民族群中人口最多的一個族群，主要分布在台灣中央山脈以東、立霧溪以南的平原地區，包括花蓮、台東和屏東縣的恆春半島。阿美族的部落式民族社會經過衝突和調適後，逐漸與外來的國家力量達成平衡。\n"
          ]
        }
      ]
    },
    {
      "cell_type": "code",
      "source": [
        "for source in response.source_nodes:\n",
        "    print(source.node.get_text())"
      ],
      "metadata": {
        "colab": {
          "base_uri": "https://localhost:8080/"
        },
        "id": "TZtOxuyXoVSI",
        "outputId": "4465ea8d-bbe2-4093-b05d-a19d5160490a"
      },
      "execution_count": 23,
      "outputs": [
        {
          "output_type": "stream",
          "name": "stdout",
          "text": [
            "Source 1:\n",
            "阿美族是原住民族群中人口最多的一族，主要分布在中央山脈以東、立霧溪以南的平原地區，包含臺灣東部的花蓮、臺東兩縣，以及屏東縣的恆春半島。阿美族人分布遼闊，按照區域與風俗可區分為北部阿美（又稱為南勢阿美）、中部阿美（包含花東縱谷的秀姑巒阿美與海岸地區）、南部阿美（包含臺東阿美與恆春半島的阿美族）三大區塊。阿美族人與外人接觸的歷史紀錄，最早可追溯到四百年前荷蘭金礦調查隊的相關資料，不過阿美族與外界積極、密切的互動是在清朝統治臺灣的最後二十年。 清同治13 年（1874）發生牡丹社事件，為恐怕國際勢力介入原住民地區，清朝推動開山撫番政策；除開闢北、中、南通往東部的道路，並鼓勵漢人前往東部發展。\n",
            "\n",
            "Source 2:\n",
            "為了闢建道路，清朝過度徵調族人整飭道路，雙方因溝通不良而發生衝突；光緒3 年（1877）年東海岸的靜埔與港口部落聯合反抗清軍，被稱為「大港口事件」。清末也因為漢人的移住，阿美族人逐漸與漢人有比較頻繁的接觸，學習到水稻耕作技術外，亦認識到漢人的文化與風俗。 二十世紀初日本殖民統治時期，日本政府在山腳設立隘勇線，防守太魯閣族與布農族，並要求鄰近的阿美族部落協助，日方強勢的作風導致阿美族人群起反抗。日明治41 年（1908），花蓮七腳川社因為日本政府藉口隘勇脫逃、怠忽職守，欲大力建設東臺灣而遭到掃蕩，被稱為「七腳川事件」。明治44年（1911）東海岸的麻荖漏部落（Madawdaw）、都歷部落（Turik）又因被日人羞辱苛責而發動抗日，稱為「成廣澳事件」。\n",
            "\n",
            "Source 3:\n",
            "阿美族人的部落式民族社會，在歷經衝突與調適後，才逐漸與外來的國家力量取得平衡。\n",
            "\n",
            "Source 4:\n",
            "祖靈屋舉行。主要活動內容是 doloi（神石）的祭儀，祈求保佑族人平安、健康，並以 taavala 競賽活動來考驗年輕人是否有能力抵抗外侮、保護族人安全。 阿美族 簡介        阿美族人群聚而居，部落規模大、人口多，祭典活動特別盛大，以每年的豐年祭典最具代表性。 美麗的家園        阿美族自稱為「pangcah」（邦查），含有「人」、「同族人」的意思，臺東的阿美族人多數住在卑南族的北邊，被卑南族人稱為「Amis」，有北方人、北方民族的意思，後來受到學術界的採用與傳播，成為廣為人知的族群名稱。阿美族的起源神話中，有「創生神話」以及「發祥傳說」兩大類別系統；北部阿美族人傳說祖先是由神降生而來，南部阿美族人認為祖先是由石頭誕生而來。        阿美族是原住民族群中人口最多的一族，主要分布在中央山脈以東、立霧溪以南的平原地區，包含臺灣東部的花蓮、臺東兩縣，以及\n",
            "\n",
            "Source 5:\n",
            "給表現良好的年輕人，具有互助共享、重視長者等倫理觀念。  地理位置 阿美族為台灣原住民十六族中人口數最多的一族，大多分布於台灣東部地區，以花蓮到台東一帶的縱谷平原與海岸山脈外側之平地為主，也有部分族人居住於屏東恆春地區。1899年日本民族學者伊能嘉矩依據地域、語言、風俗習慣的差異，將阿美族分為南勢阿美、秀姑巒阿美、海岸阿美、馬蘭阿美及恆春阿美，五個地域。   1. 南勢阿美群是阿美族中位居最北的一群，他們與太魯閣族和後遷入的噶瑪蘭族比鄰而居，主要包括今花蓮縣新城鄉、吉安鄉、壽豐鄉、鳳林鄉及花蓮市等鄉市，主要部落有荳蘭(Natauran)、薄薄(Pokpok)、里漏(Rilao)、七腳川(Cikasowan)等社；因位居泰雅族北勢群的南方，故相對稱為 「南勢阿美」。        2.\n",
            "\n",
            "Source 6:\n",
            "秀姑巒阿美群是阿美族位居中部的一群，分布於現今的花蓮縣鳳林鎮、光復鄉、瑞穗鄉、玉里鎮、富里鄉等等，因地處秀姑巒溪流域，故命其名，主要部落有：太巴塱(Tafalong)、馬太鞍(Fataan)、奇美(kiwit)、拔仔(Pairasan)等社，西與太魯閣族、布農兩族為鄰。 3. 海岸阿美群也是位居阿美族中部的一群，分布於花蓮縣豐濱鄉、台東縣長濱鄉和成功鎮間的海岸山脈東側沿海地區，主要部落有貓公(Fakon)、頂仔漏 (Tigalao)、靜浦(Cawi)、港口(Makutaay)、長光(Ciwkagan)、白守蓮(Pisirlan)、成功(Madawdaw)等等，因為濱臨海洋，故稱之。   4.\n",
            "\n",
            "Source 7:\n",
            "馬蘭阿美群是位處南部的阿美族主要族群，分布在台東市附近，又稱台東阿美，與卑南、魯凱、排灣及布農等四族比鄰而居，主要部落有馬蘭(Falangao)、 都蘭(Etiran)、都歷(Torik)、東河(Fafokad)、小馬(Piyoho)、麻荖漏(Madawdaw)等等。   5.\n",
            "\n"
          ]
        }
      ]
    },
    {
      "cell_type": "code",
      "source": [
        "response = agent.chat(\"豐年祭在什麼時候\")\n",
        "print(str(response))\n",
        "\n",
        "for source in response.source_nodes:\n",
        "    print(source.node.get_text())"
      ],
      "metadata": {
        "colab": {
          "base_uri": "https://localhost:8080/"
        },
        "id": "x9Ya92dxEEOq",
        "outputId": "170dca29-98b5-4a9a-c26c-c590ef5e70fe"
      },
      "execution_count": 24,
      "outputs": [
        {
          "output_type": "stream",
          "name": "stdout",
          "text": [
            "\u001b[1;3;38;5;200mThought: The current language of the user is: zh_TW. I need to use a tool to help me answer the question.\n",
            "Action: Taiwanese\n",
            "Action Input: {'input': '豐年祭在什麼時候'}\n",
            "\u001b[0m\u001b[1;3;34mObservation: 豐年祭通常在七、八月間舉行，因為是以農耕收成之後的日子作為祭典日，但台灣南北氣候有所差異，所以各地祭典的時間也有差別[1]。\n",
            "\u001b[0m\u001b[1;3;38;5;200mThought: I can answer without using any more tools. I'll use the user's language to answer.\n",
            "Answer: 豐年祭通常在七、八月間舉行，因為是以農耕收成之後的日子作為祭典日，但台灣南北氣候有所差異，所以各地祭典的時間也有差別。\n",
            "\u001b[0m豐年祭通常在七、八月間舉行，因為是以農耕收成之後的日子作為祭典日，但台灣南北氣候有所差異，所以各地祭典的時間也有差別。\n",
            "Source 1:\n",
            "」這些狀況在種小米時期是絕對不可以的。因為作物的改變，使得現今的豐年祭呈現較為熱鬧的場面。         豐年祭又因各地區不同而有不同的稱呼，如北部阿美族普遍稱Malalikit，東海岸阿美族則稱為Malikoda，中部阿美則稱為Ilisin。一般來說，阿美族的豐年祭是七、八月間舉行，因為是以農耕收成之後的日子作為祭典日，但台灣南北氣候有所差異，所以各地祭典的時間也有差別。豐年祭切確舉行的時間，首先要舉行部落籌備會議，由頭目召集頭目幕僚團，籌備會議的主要議題是決定活動的日期和日數。         豐年祭系列的活動中，歌舞是豐年祭活動的重心，有歌舞才是完整的豐年祭。豐年祭的歌舞男女有別，由男子擔任主要角色，女子僅居於助興地位。\n",
            "\n",
            "Source 2:\n",
            "(4)聯合年祭：(元月2日舉行)由八社輪流舉辦，有八社的表演及競賽，是觀摩卑南八社文化的最好時機。 (三) 初鹿村：以七月的收穫祭及十二月底的年祭較受重視。其中收穫祭的盪鞦韆活動是一大特色。 (四) 檳榔村：以三月八日婦女除草完工的傳統節日最具特色，顯現了檳榔村婦女團隊組織的嚴謹。十二月底的年祭亦是主要祭典之一。 (五) 利嘉村：以十二月底的大獵祭為主。 (六) 泰安村：以十二月底的大獵祭為主。 (七) 寶桑村：以十二月底的大獵祭為主。\n",
            "\n",
            "Source 3:\n",
            "年7 月開始，各部落按照稻米收成時間由南往北安排辦理，祭典時間為期1 ∼ 7 天之間。   豐年祭雖然以豐收為名，但內容包括豐收、謝神、聯誼、社交與年齡階級晉級儀式、軍事訓練驗收儀式等，是具經濟、宗教、社會、政治、文化等多性質的綜合活動。豐年祭的多面向活動，具有多元文化特質的意義，加上參與人數眾多，規模相當盛大。阿美族人即使移居都市，仍然持續辦理豐年祭典，傳承各項傳統文化與觀念，這個祭典也是新一代族人對部落文化認同的重要活動。 2. 漁撈祭 用傳統檳榔葉柄食盒烹煮魚 阿美族的漁撈祭包含海祭與河祭，是在每年5、6 月間祭祀海神或河川神的活動，族人藉此祈求出海平安或撈捕魚類滿載而歸。\n",
            "\n",
            "Source 4:\n",
            "漁撈祭典有不同的名稱，在海邊進行的海祭，北部阿美稱為mia’adis，海岸阿美族稱為misacepo’，馬蘭阿美族稱為mikesi’；撈捕淡水魚的河川祭，沿秀姑巒溪兩岸的阿美族人稱為komoris。   而都歷部落於民國70 年（1981） 中斷過海祭， 復於民國100 年（2011）時恢復此祭儀，更名為pafafuy。 傳統領袖帶領族人祭祖 漁撈祭具有敬老尊賢的意義，祭典由青年以魚蟹、米酒祭拜河神或海神後揭開序幕，接著由各年齡階層進入海河溪流中撈捕魚類。近午時分，青年將捕獲的魚類集中、烹煮，並按照年齡階級的輩份順序，將煮熟的漁獲送交長者、耆老品嚐，以表示老者優先，而年長者也會賞賜漁獲\n",
            "\n"
          ]
        }
      ]
    },
    {
      "cell_type": "code",
      "source": [
        "response = agent.chat(\"台灣最高樓是什麼？\")\n",
        "print(str(response))"
      ],
      "metadata": {
        "colab": {
          "base_uri": "https://localhost:8080/"
        },
        "id": "5r1R44EuDlj4",
        "outputId": "43b750cf-2eab-4d5c-8b21-9ee8b95cf95a"
      },
      "execution_count": 25,
      "outputs": [
        {
          "output_type": "stream",
          "name": "stdout",
          "text": [
            "\u001b[1;3;38;5;200mThought: The current language of the user is: zh_TW. I need to use a tool to help me answer the question.\n",
            "Action: Taiwanese\n",
            "Action Input: {'input': '台灣最高樓是什麼？'}\n",
            "\u001b[0m\u001b[1;3;34mObservation: None of the provided sources mention the tallest building in Taiwan.\n",
            "\u001b[0m\u001b[1;3;38;5;200mThought: I cannot answer the question with the provided tools.\n",
            "Answer: 台灣最高的建築物是台北101大樓。\n",
            "\u001b[0m台灣最高的建築物是台北101大樓。\n"
          ]
        }
      ]
    },
    {
      "cell_type": "code",
      "source": [
        "response = agent.chat(\"台灣有哪些原住民族？請你說出每一族的特色\")\n",
        "print(str(response))\n",
        "\n",
        "for source in response.source_nodes:\n",
        "    print(source.node.get_text())"
      ],
      "metadata": {
        "colab": {
          "base_uri": "https://localhost:8080/"
        },
        "id": "p3xfXuu_p7ip",
        "outputId": "3aa79253-1b1d-4961-c792-7bee22eb6fb4"
      },
      "execution_count": 29,
      "outputs": [
        {
          "output_type": "stream",
          "name": "stdout",
          "text": [
            "\u001b[1;3;38;5;200mThought: The current language of the user is: zh-TW. I need to use a tool to help me answer the question.\n",
            "Action: Taiwanese\n",
            "Action Input: {'input': '台灣有哪些原住民族？請你說出每一族的特色'}\n",
            "\u001b[0m\u001b[1;3;34mObservation: 台灣有以下原住民族：\n",
            "1. 阿美族：分佈在中央山脈東側，立霧溪以南，太平洋沿岸的東台縱谷及東海岸平原，大部份居住於平地，只有極少數居住於山谷中。\n",
            "2. 泰雅族：分布在台灣中北部山區，包括埔里至花蓮連線以北地區。\n",
            "3. 排灣族：以台灣南部為活動區域，北起大武山地，南達恆春，西自隘寮，東到太麻里以南海岸。\n",
            "4. 布農族：分布於中央山脈海拔一千至二千公尺的山區，廣及於高雄縣那瑪夏鄉、台東縣海端鄉，以南投縣境為主。\n",
            "5. 卑南族：分布於台東縱谷南部。\n",
            "6. 魯凱族：分布於高雄縣茂林鄉、屏東縣霧台鄉及台東縣東興村等地。\n",
            "7. 鄒族：主要居住於嘉義縣阿里山鄉，亦分布於南投縣信義鄉。\n",
            "8. 賽夏族：居住於新竹縣與苗栗縣交界的山區，分為北賽夏和南賽夏兩大族群 [2].\n",
            "\n",
            "每個族群都有獨特的居住地區和特色，反映了他們對自然環境的適應和文化傳承。\n",
            "\u001b[0m\u001b[1;3;38;5;200mThought: I can answer without using any more tools. I'll use the user's language to answer.\n",
            "Answer: 台灣有以下原住民族：\n",
            "1. 阿美族：分佈在中央山脈東側，立霧溪以南，太平洋沿岸的東台縱谷及東海岸平原，擅長拼板舟技術，以及以獨特的節奏和舞蹈表達情感。\n",
            "2. 泰雅族：分布在台灣中北部山區，包括埔里至花蓮連線以北地區，以織布和紋面文化聞名。\n",
            "3. 排灣族：以台灣南部為活動區域，北起大武山地，南達恆春，西自隘寮，東到太麻里以南海岸，擁有多神信仰，並且有著複雜的階級社會制度。\n",
            "4. 布農族：分布於中央山脈海拔一千至二千公尺的山區，廣及於高雄縣那瑪夏鄉、台東縣海端鄉，以南投縣境為主，以八部合音聞名。\n",
            "5. 卑南族：分布於台東縱谷南部，擁有豐富的農耕文化。\n",
            "6. 魯凱族：分布於高雄縣茂林鄉、屏東縣霧台鄉及台東縣東興村等地，以獨特的音樂和舞蹈傳統聞名。\n",
            "7. 鄒族：主要居住於嘉義縣阿里山鄉，亦分布於南投縣信義鄉，擁有豐富的神話傳說和文化傳統。\n",
            "8. 賽夏族：居住於新竹縣與苗栗縣交界的山區，分為北賽夏和南賽夏兩大族群，以獨特的語言和文化特色著稱。\n",
            "\n",
            "每個族群都有獨特的居住地區和特色，反映了他們對自然環境的適應和文化傳承。\n",
            "\u001b[0m台灣有以下原住民族：\n",
            "1. 阿美族：分佈在中央山脈東側，立霧溪以南，太平洋沿岸的東台縱谷及東海岸平原，擅長拼板舟技術，以及以獨特的節奏和舞蹈表達情感。\n",
            "2. 泰雅族：分布在台灣中北部山區，包括埔里至花蓮連線以北地區，以織布和紋面文化聞名。\n",
            "3. 排灣族：以台灣南部為活動區域，北起大武山地，南達恆春，西自隘寮，東到太麻里以南海岸，擁有多神信仰，並且有著複雜的階級社會制度。\n",
            "4. 布農族：分布於中央山脈海拔一千至二千公尺的山區，廣及於高雄縣那瑪夏鄉、台東縣海端鄉，以南投縣境為主，以八部合音聞名。\n",
            "5. 卑南族：分布於台東縱谷南部，擁有豐富的農耕文化。\n",
            "6. 魯凱族：分布於高雄縣茂林鄉、屏東縣霧台鄉及台東縣東興村等地，以獨特的音樂和舞蹈傳統聞名。\n",
            "7. 鄒族：主要居住於嘉義縣阿里山鄉，亦分布於南投縣信義鄉，擁有豐富的神話傳說和文化傳統。\n",
            "8. 賽夏族：居住於新竹縣與苗栗縣交界的山區，分為北賽夏和南賽夏兩大族群，以獨特的語言和文化特色著稱。\n",
            "\n",
            "每個族群都有獨特的居住地區和特色，反映了他們對自然環境的適應和文化傳承。\n",
            "Source 1:\n",
            "台灣每一個民族都有其獨特而值得驕傲的文化特色，值得珍惜、保存與 發揚。清朝時期漢人大量移民來台，強制的同化政策導致平埔族原住民人的血緣與文化，面臨空前的消失危機，令世人遺憾。今日我們有幸仍保留先民特色的十餘族原住民，未來在台灣文化的發展中仍繼續扮演著重要的角色，也成為台灣最重要的文化資產。   原住民族分佈  引用自\t台灣原住民族分佈「台灣族群母語推行委員會」製圖\t根據原民會網站的說明： 台灣原住民族約有53萬人，佔總人 口數的2﹪，目前，經政府認定的原住民族有：阿美族、泰雅族、排灣族、布農族、卑南族、魯凱族、鄒族、賽夏族、雅美族、邵族、噶瑪蘭族、太魯閣族、撒奇萊 雅族、賽德克族、拉阿魯哇族、卡那卡那富族等16族。\n",
            "\n",
            "Source 2:\n",
            "阿美族：阿美族分佈在中央山脈東側，立霧溪以南，太平洋沿岸的東台縱谷及東海岸平原，大部份居住於平地，只有極少數居於山谷中。 泰雅族：泰雅族分布在台灣中北部山區，包括埔里至花蓮連線以北地區。 排灣族：排灣族以台灣南部為活動區域，北起大武山地，南達恆春，西自隘寮，東到太麻里以南海岸。 布農族：布農族分布於中央山脈海拔一千至二千公尺的山區，廣及於高雄縣那瑪夏鄉、台東縣海端鄉，而以南投縣境為主。 卑南族：卑南族分布於台東縱谷南部。 魯凱族：魯凱族分布於高雄縣茂林鄉、屏東縣霧台鄉及台東縣東興村等地。 鄒族：鄒族主要居住於嘉義縣阿里山鄉，亦分布於南投縣信義鄉。 賽夏族：賽夏族居住於新竹縣與苗栗縣交界的山區，又分為南、北兩大族群。\n",
            "\n",
            "Source 3:\n",
            "北賽夏居住於新竹縣五峰鄉，南賽夏居住於苗栗縣南庄鄉與獅潭鄉。\n",
            "\n",
            "Source 4:\n",
            "族群概述 台灣位居歐亞大陸與太平洋盆地、親潮與黑潮、漢族與南島民族等多元地理環境、文化與族群的匯流交會地帶。台灣原住民屬於南島語族（Austronesian）的一支，包含原住民各族及與漢文化互相涵化的平埔諸族。不到台灣總人口數百分之二的南島語族，居住活動地分佈達一萬六千餘平方公里，佔全台灣面積百分之四十五。在台灣變異性極大的自然環境中，原住民因應不同的生態而發展出不同型態的採集、狩獵、漁撈及農耕的方式；同時，也衍生出不同的聚落型態及建築方式。因此，文化反映著族群跟自然環境的對話關係，在台灣這個生態多樣性的海島，也孕育出台灣原住民文化多樣性的豐富內涵。 生態、聚落型態及建築方式        什麼樣的地理環境，建築出什麼樣的居住文化，原住民非常懂得因地制宜。\n",
            "\n",
            "Source 5:\n",
            "達悟族「半穴居」，符合蘭嶼海島夏季多颱風、冬天東北季風肆虐的氣候；排灣、魯凱、布農族的「石板屋」，除了是因為當地河床盛產石板頁岩外，更重要的是黑灰色的石板屋深藏於叢山密林中，不易讓人覺察；居住在高山地區的泰雅、太魯閣、賽夏、鄒等族，則選擇以竹子、樹木、茅草為材，搭建自己的家屋。早期居住在平原地帶的平埔諸族，其建築型式有干欄式、平台式，石材亦就地取材，包括竹子、茅草----（陳雨嵐 2004：152）。 台灣原住民的語言        全世界的南島民族總人口數將近三億，在地理上的分布極廣，東起南美洲西岸的復活島，西到非洲東岸的馬達加斯加島，南到紐西蘭，而台灣是分布的最北端，目前所知此一南島語族內的語言有一千種左右。目前，台灣島上的原住民人數約有50多萬人，雖然僅佔了世界南島民族人口總數的0.\n",
            "\n",
            "Source 6:\n",
            "風俗習慣和社會結構，對台灣而言，原住民族是歷史與文化的重要根源，也是獨一無二的美麗瑰寶。 阿美族：傳統範圍分布廣泛，幅員較其他族為狹長，分布於花蓮縣、臺東縣及屏東縣的海岸平原及丘陵地，以池上、關山為界，以北自稱Pangcah，以南自稱Amis。 泰雅族：分布在臺灣北部中央山脈兩側，橫跨宜蘭縣、新北市、桃園市、新竹縣、苗栗縣、臺中市與南投縣，占臺灣中北部三分之一的山區，包括和平溪、南澳溪、蘭陽溪、大漢溪、中港溪、後龍溪、大安溪、大甲溪、北港溪與濁水溪等溪流的主流與支流流域。\n",
            "\n",
            "Source 7:\n",
            "排灣族：分布於屏東縣、臺東縣兩縣，行政區域共計12鄉鎮，橫跨中央山脈南段山地兩側，除屏東縣滿洲鄉、臺東縣大武鄉、太麻里鄉為平地行政區域並與其他族群混居外，餘均屬山地鄉，分布區塊緊連且完整。 布農族：居住於中央山脈兩側，以bunun一詞來稱呼自己，北自南投仁愛鄉、信義鄉，南達高雄市桃源區、那瑪夏區，以及花東地區的萬榮鄉、卓溪鄉、海端鄉、延平鄉。 卑南族：居住於北起卑南溪流域，南至知本溪之間近山處之臺東平原一帶。 魯凱族：居住於中央山脈南段兩側（阿里山以南，大武山以北）之山地，濁口溪、隘寮南北溪、大南溪流域的山區及呂加溪流域。 鄒族：居住於嘉義縣阿里山鄉及南投縣信義鄉。\n",
            "\n"
          ]
        }
      ]
    }
  ]
}